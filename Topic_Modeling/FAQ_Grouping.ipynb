{
 "cells": [
  {
   "cell_type": "code",
   "execution_count": 1,
   "metadata": {},
   "outputs": [],
   "source": [
    "import pandas as pd\n",
    "import string\n",
    "# import nltk\n",
    "# import spacy\n",
    "# spacy.load('en_core_web_lg')"
   ]
  },
  {
   "cell_type": "code",
   "execution_count": 2,
   "metadata": {},
   "outputs": [],
   "source": [
    "df = pd.read_csv('eyecareFAQ.csv')"
   ]
  },
  {
   "cell_type": "code",
   "execution_count": 3,
   "metadata": {},
   "outputs": [
    {
     "data": {
      "text/html": [
       "<div>\n",
       "<style scoped>\n",
       "    .dataframe tbody tr th:only-of-type {\n",
       "        vertical-align: middle;\n",
       "    }\n",
       "\n",
       "    .dataframe tbody tr th {\n",
       "        vertical-align: top;\n",
       "    }\n",
       "\n",
       "    .dataframe thead th {\n",
       "        text-align: right;\n",
       "    }\n",
       "</style>\n",
       "<table border=\"1\" class=\"dataframe\">\n",
       "  <thead>\n",
       "    <tr style=\"text-align: right;\">\n",
       "      <th></th>\n",
       "      <th>I have \"spots\" floating around in my eye. Should I be worried?</th>\n",
       "    </tr>\n",
       "  </thead>\n",
       "  <tbody>\n",
       "    <tr>\n",
       "      <th>0</th>\n",
       "      <td>I work on a computer all day. Can this hurt my...</td>\n",
       "    </tr>\n",
       "    <tr>\n",
       "      <th>1</th>\n",
       "      <td>I'm interested in having LASIK done. What info...</td>\n",
       "    </tr>\n",
       "    <tr>\n",
       "      <th>2</th>\n",
       "      <td>Can you tell me what's wrong with my eyes?</td>\n",
       "    </tr>\n",
       "    <tr>\n",
       "      <th>3</th>\n",
       "      <td>My doctor refused to give me my contact lens p...</td>\n",
       "    </tr>\n",
       "    <tr>\n",
       "      <th>4</th>\n",
       "      <td>Am I old enough to wear contact lenses?</td>\n",
       "    </tr>\n",
       "  </tbody>\n",
       "</table>\n",
       "</div>"
      ],
      "text/plain": [
       "  I have \"spots\" floating around in my eye. Should I be worried?\n",
       "0  I work on a computer all day. Can this hurt my...            \n",
       "1  I'm interested in having LASIK done. What info...            \n",
       "2         Can you tell me what's wrong with my eyes?            \n",
       "3  My doctor refused to give me my contact lens p...            \n",
       "4            Am I old enough to wear contact lenses?            "
      ]
     },
     "execution_count": 3,
     "metadata": {},
     "output_type": "execute_result"
    }
   ],
   "source": [
    "df.head()"
   ]
  },
  {
   "cell_type": "code",
   "execution_count": 4,
   "metadata": {},
   "outputs": [],
   "source": [
    "question = df['I have \"spots\" floating around in my eye. Should I be worried?'].tolist()"
   ]
  },
  {
   "cell_type": "code",
   "execution_count": 5,
   "metadata": {
    "scrolled": true
   },
   "outputs": [
    {
     "data": {
      "text/plain": [
       "['I work on a computer all day. Can this hurt my eyes?',\n",
       " \"I'm interested in having LASIK done. What information do I need to know?\",\n",
       " \"Can you tell me what's wrong with my eyes?\",\n",
       " 'My doctor refused to give me my contact lens prescription. Is this legal?',\n",
       " 'Am I old enough to wear contact lenses?',\n",
       " 'What exactly does \"20/20 vision\" mean?',\n",
       " 'Can you help me find a doctor near me who...?',\n",
       " \"I'm looking for a specific type of contact lens. Do you know where I can find it?\",\n",
       " 'How Often should I need to test my eyes?',\n",
       " 'What are the symptoms of Cataract?',\n",
       " 'Do I need surgery for Cataract? How would I know that?',\n",
       " 'What is Myopia or Nearsightedness?',\n",
       " 'What is Hyperopia or farsightedness?',\n",
       " 'What is Presbyopia?',\n",
       " 'What is the difference between Hyperopia and Presbyopia?',\n",
       " 'My eyes are fine, then why do I need to visit the doctor regularly?',\n",
       " 'What is Macular Degeneration?',\n",
       " 'Who are at risk of developing Macular Degeneration?',\n",
       " 'I have noticed small spots floating in front of my eyes. Is this a cause for concern?',\n",
       " 'What causes dry eyes?',\n",
       " 'How to treat dry eyes?',\n",
       " 'Why did my eyelid start to twitch?',\n",
       " 'How can I make it stop?',\n",
       " 'What Is the difference between an ophthalmologist, an optometrist and an optician?',\n",
       " 'How does normal vision develop?',\n",
       " 'How does the eye work (eye anatomy)?',\n",
       " \"When should my child's eyes be examined?\",\n",
       " \"When should an adult's eyes be examined?\",\n",
       " 'Make an appointment for a routine eye examination',\n",
       " 'Is pink-eye contagious?',\n",
       " 'What are the medical terms for nearsightedness and farsightedness?',\n",
       " 'What Is visual acuity?',\n",
       " 'What Is legal blindness?',\n",
       " 'What Is visual impairment?',\n",
       " 'What Is low vision?',\n",
       " 'Can eyes be transplanted?',\n",
       " 'What Is human genetic research?',\n",
       " 'What Is genetic testing?',\n",
       " 'Are genetic study participants all patients at Kellogg?',\n",
       " 'What Is genetic counseling?',\n",
       " 'Can my child wear contact lenses during sports activities?',\n",
       " 'Do contact lenses prevent nearsightedness (myopia) from getting worse?',\n",
       " 'Can I use my eyeglass prescription to buy over-the-counter contact lenses?',\n",
       " 'Is it safe for me to clean my contact lenses with a homemade solution?',\n",
       " 'Will working at a computer screen hurt my eyes?',\n",
       " \"Will sitting too close to the television set hurt my child's eyes?\",\n",
       " 'Why have I gradually found it harder to read without glasses?',\n",
       " 'Are sunglasses good for my eyes?',\n",
       " 'Is my child likely to inherit my need for glasses?',\n",
       " 'Will reading in dim light hurt my eyes?',\n",
       " 'How often do I need to get my prescription changed?',\n",
       " 'What materials are available for glasses?',\n",
       " 'How long will the entire appointment take?',\n",
       " 'How often do I need an eye exam, especially if I have a family member with an eye-condition? (Glasses, glaucoma, diabetes, etc)',\n",
       " 'Why is a regular eye exam so important?',\n",
       " 'What happens during an eye exam?',\n",
       " 'What is the difference between an ophthalmologist, an optometrist and an optician?',\n",
       " 'What options are available to consumers when purchasing frames and lenses?',\n",
       " ' What is digital eye strain and what are the common symptoms associated with it?',\n",
       " 'What options are available for relieving symptoms of digital eye strain?',\n",
       " 'What does the eye chart actually measure?',\n",
       " 'What are ultraviolet (UV) rays and what damage can they cause to the eyes?',\n",
       " 'What is the difference between reading glasses and prescription glasses?',\n",
       " 'What is Cataract?',\n",
       " 'What is Glaucoma?',\n",
       " 'What is Lasik Surgery?',\n",
       " 'What is the right age to have LASIK laser vision correction?',\n",
       " 'What is conjunctivitis?',\n",
       " 'What cause redness of eye?',\n",
       " 'What is Double Vision?',\n",
       " 'What is Pterygium?',\n",
       " 'What is Chalazion?',\n",
       " 'I see fine. Why do I need to see an Eye Doctor?',\n",
       " 'How can I stop glare at night or at a computer?',\n",
       " 'Do I need an optometrist or an ophthalmologist?',\n",
       " 'Can I use no-line bifocals with fashionably smaller frames?',\n",
       " 'Am I a good candidate for refractive surgery?',\n",
       " 'Why can I no longer focus on objects up close?',\n",
       " 'What are progressive lenses and how do they differ from ordinary bifocals?',\n",
       " 'How can I reduce the thickness and weight of my eyeglass lenses?',\n",
       " 'My doctor says I have a cataract, but he wants to wait a while before removing it. Why?',\n",
       " 'What exactly is macular degeneration?',\n",
       " \"Who's at the most risk for macular degeneration?\",\n",
       " 'Is there any way to prevent macular degeneration?',\n",
       " 'My eyes are always burning and tired, what is causing this and what can I do about it?',\n",
       " 'I see fine. Why do I need to see an Eye Doctor?',\n",
       " 'Why do my eyes water all the time? What can I do to make it stop?',\n",
       " 'How often should I get my eyes examined?',\n",
       " 'What are floaters?',\n",
       " 'What are cataracts?',\n",
       " 'Why do I need my eyes dilated?',\n",
       " 'What is Astigmatism?',\n",
       " \"What's the difference between farsighted and nearsightedness?\",\n",
       " \"What's the difference between an optometrist and an ophthalmologist?\",\n",
       " \"I'm over 40 and I can't read well up close. Why?\",\n",
       " 'What is Diabetic Retinopathy?',\n",
       " 'What is Macular Degeneration?',\n",
       " 'Should I buy my contact lenses over the phone or Internet?',\n",
       " 'Why do I have to clean my Contact Lenses ? ',\n",
       " 'Why is there a limit to the length of wearing time ? ',\n",
       " 'Can I lose the lens behind myeye ? ',\n",
       " \"How do I tell if I've lost the lens from my eye? \",\n",
       " \"How can I tell if I've put them in the wrong eye ? \",\n",
       " 'How to tell if the lenses areinside out ? ',\n",
       " 'How do I know when to disposeof my disposable lenses ? ',\n",
       " 'Can I store my lenses in tap water ? ',\n",
       " 'Can I store my lenses dry ? ',\n",
       " 'How long does it take to adapt to new lenses ? ',\n",
       " 'Why do I have to use protein cleaner ? ',\n",
       " 'Can I use eyedrops with my contact lenses ? ',\n",
       " 'How do I get around dryness with contact lenses ? ',\n",
       " 'Risks and Benefits of Contact Lenses ',\n",
       " 'Why should you watch out for preservatives in artificial tears relative to eye drops?',\n",
       " 'What are artificial tears?',\n",
       " 'Can you prevent genetic corneal diseases?',\n",
       " 'What should you expect after photorefractive keratectomy?',\n",
       " 'Who gets Best disease?',\n",
       " 'What does juvenile retinoschisis do to your eye?',\n",
       " 'How do cataracts affect night vision?',\n",
       " 'Why is it important to know eye-related first aid?',\n",
       " \"Who gets Stargardt's disease?\",\n",
       " 'What causes strabismus in premature babies?',\n",
       " 'What do I do if something is irritating my eye?',\n",
       " 'What other problems could I have with a black eye?',\n",
       " 'What do I do if a stye come back?',\n",
       " 'How can you treat a stye?',\n",
       " 'How can I clean my eye if I have blepharitis?',\n",
       " 'How does juvenile macular degeneration affect vision?',\n",
       " 'Who gets juvenile retinoschisis?',\n",
       " 'What are some ways to prevent or slow down the development of glaucoma?',\n",
       " 'How do you treat keratitis?',\n",
       " 'What does corneal disease mean?',\n",
       " 'When should I go to my doctor about my vision?',\n",
       " \"How is Stargardt's disease diagnosed?\",\n",
       " 'What does Best disease do to your eye?',\n",
       " 'Who gets macular dystrophy?',\n",
       " 'How are routines effective for glaucoma patients?',\n",
       " 'How are cornea problems diagnosed?',\n",
       " 'What is diabetic retinopathy?',\n",
       " 'What is enucleation?',\n",
       " 'How can you treat corneal infections?',\n",
       " 'What is the definition of ocular?',\n",
       " 'What is the definition of legal blindness?',\n",
       " 'What is night blindness?',\n",
       " 'What are the symptoms of eye floaters?',\n",
       " 'How do I know if I need a full thickness corneal transplant?',\n",
       " 'How is a small-gauge vitrectomy done for vitreomacular adhesion (VMA)?',\n",
       " 'What will your doctor check for when following up with vitreomacular adhesion (VMA) treatment?',\n",
       " 'How do you treat vitreomacular adhesion (VMA)?',\n",
       " 'How is strabismus in children treated?',\n",
       " 'Do children outgrow trichiasis?',\n",
       " 'What is secondary glaucoma?',\n",
       " 'What should I do if my stye comes back?',\n",
       " 'Will the doctor put anything in my eye?',\n",
       " 'How do common eye problems cause halos and glare?',\n",
       " 'What complications can happen from a cornea transplant surgery?',\n",
       " 'Are your contact lenses irritating your eyes?',\n",
       " 'What might change after a cornea transplant surgery?',\n",
       " 'How can eye procedures cause halos and glare?',\n",
       " \"What is Horner's syndrome?\",\n",
       " 'What are the symptoms of acute glaucoma?',\n",
       " 'What is ptosis?',\n",
       " 'What does open-angle glaucoma do to your eye?',\n",
       " 'How can laser surgery help treat glaucoma?',\n",
       " \"What is the treatment for dry eyes if you don't have allergies?\",\n",
       " 'What lifestyle changes can help you deal with dry eyes?',\n",
       " 'Can marijuana help slow glaucoma progression?',\n",
       " 'How can laser therapy help glaucoma?',\n",
       " 'How do glaucoma treatments affect the use of contact lenses?',\n",
       " 'What can children do to help parents who have glaucoma?',\n",
       " 'What can a stye or a chalazion do to me?',\n",
       " 'What are some effective treatments for glaucoma?',\n",
       " 'What causes Duane syndrome (DS)?',\n",
       " 'What are the side effects of dacryocystorhinostomy (DCR) for blocked tear ducts?',\n",
       " \"What if my child's tear duct doesn't open on its own?\",\n",
       " 'Who can get chalazia?',\n",
       " \"What happens if my child's blocked tear duct doesn't get better after a probing to open it up?\",\n",
       " 'Does chalazia come back?',\n",
       " 'How might I get parasites in my eye?',\n",
       " 'Do genetics play a role in Duane syndrome (DS)?',\n",
       " 'How can I treat symptoms of Duane syndrome (DS)?',\n",
       " 'How often should you get eye exams if you have Duane syndrome (DS)?',\n",
       " 'Is there a cure for Duane syndrome (DS)?',\n",
       " 'How do you treat a blocked tear duct?',\n",
       " 'Can your baby get Duane syndrome (DS) during pregnancy?',\n",
       " 'How can I prevent eye infections if I wear contact lenses?',\n",
       " 'What causes juvenile X-linked retinoschisis?',\n",
       " 'What is strabismus (crossed eyes)?',\n",
       " 'How might a person lose an eye?',\n",
       " 'What are halos in vision?',\n",
       " 'How can you treat bloodshot eyes from dry eye?',\n",
       " 'What happens when you get astigmatic keratotomy to treat astigmatism?',\n",
       " 'What are the side effects of bimatoprost?',\n",
       " 'What are potential side effects of limbal relaxing incision (LRI) eye surgery?',\n",
       " 'How should I prepare for limbal relaxing incision (LRI) eye surgery?',\n",
       " 'How does my LASIK surgery cause dry eyes?',\n",
       " 'How can minimally invasive glaucoma surgeries help glaucoma?',\n",
       " 'What are the side effects of eyelash extensions?',\n",
       " 'How are eye infections treated?',\n",
       " 'What causes eye freckles?',\n",
       " 'Does obesity affect my chances of getting AMD?',\n",
       " 'Do you need medicine for your stye?',\n",
       " 'What is an exudative retinal detachment?',\n",
       " 'Can medications cause papilledema?',\n",
       " 'What do ophthalmologists do?',\n",
       " 'What are possible future uses for eye drops?',\n",
       " 'What health conditions can cause angle closure glaucoma?',\n",
       " 'How do doctors treat angle closure glaucoma?',\n",
       " 'What are dry eyes?',\n",
       " 'What causes a subconjunctival hemorrhage?',\n",
       " 'What should I do if I feel like something is in my eye?',\n",
       " 'When should you call your doctor about a subconjunctival hemorrhage?',\n",
       " 'Are there medications that affect my chances of AMD?',\n",
       " 'What should you do if certain medicines cause dry eyes?',\n",
       " 'How can you manage dilated pupils?',\n",
       " 'What is a subconjunctival hemorrhage?',\n",
       " 'Does vitamin E help your eyes?',\n",
       " 'When should you seek immediate medical care if you think you have glaucoma?',\n",
       " 'How is iritis treated?',\n",
       " 'What are eye twitches linked to?',\n",
       " 'How is open-angle glaucoma treated?',\n",
       " 'What is sinusitis?',\n",
       " 'How are eye drops used for treating glaucoma?',\n",
       " 'How do eyelid problems inhibit vision?',\n",
       " 'How is the loss of peripheral vision treated?',\n",
       " 'Who gets xanthelasma?',\n",
       " 'What does recovery look like after a cornea transplant surgery?',\n",
       " \"What can you do to protect your child's sight?\",\n",
       " 'What should I do in an eye emergency?',\n",
       " 'How can you help your baby develop good eyesight?',\n",
       " \"What can I do to protect my child's sight?\",\n",
       " 'How can I help my baby develop good eyesight?',\n",
       " \"How often should my child's eyes be checked?\",\n",
       " \"What are some examples of stimulating toys to help your child's developing eyesight?\",\n",
       " \"How often should your child's eyes be checked?\",\n",
       " 'Can being pregnant make your eyes dry?',\n",
       " 'What is photorefractive keratectomy (PRK)?',\n",
       " 'What causes uveitis?',\n",
       " 'What are the parts of the uvea?',\n",
       " 'How is retinitis pigmentosa treated?',\n",
       " 'What should I do if my doctor suspects an eye problem in my child?',\n",
       " 'What could cause misaligned eyes in a baby?',\n",
       " 'How can I choose the most helpful vision aid?',\n",
       " 'How do eye drops help kids with lazy eye (amblyopia)?',\n",
       " 'How do I know if I have a large eye floater?',\n",
       " 'How do you know if you have eyelid problems?',\n",
       " 'What happens during LASIK?',\n",
       " 'How is strabismus in children treated?',\n",
       " 'Do children outgrow trichiasis?',\n",
       " 'What happens if amblyopia is not treated?',\n",
       " \"What is surfer's eye?\",\n",
       " 'What kind of treatment will the doctor prescribe for my eye?',\n",
       " \"How does Stargardt's disease in juvenile macular degeneration affect my vision?\",\n",
       " 'What is secondary glaucoma?',\n",
       " 'Why might an eye be removed?',\n",
       " 'When should my child see their eye doctor?',\n",
       " 'What should I do if my stye comes back?',\n",
       " 'What is the medical treatment of iritis?',\n",
       " 'Will the doctor put anything in my eye?',\n",
       " 'How do common eye problems cause halos and glare?',\n",
       " 'When should someone with a stye call the doctor?',\n",
       " 'What is a visual acuity test in an eye checkup?',\n",
       " 'How can corneal injuries occur?',\n",
       " 'What can you do to prevent corneal opacities?',\n",
       " 'How effective are treatments for uveitis?',\n",
       " 'What are halos or glare?',\n",
       " 'When should you go to the doctor about xanthelasma?',\n",
       " 'How can tear duct probing treat a blocked tear duct?',\n",
       " 'Does using artificial sweeteners make your eyes more sensitive to light?',\n",
       " 'What is a slit lamp in an eye checkup?',\n",
       " 'Can reading in the dark make your eyesight weaker?',\n",
       " 'What is a retinal tomography?',\n",
       " 'What happens during cataract surgery?',\n",
       " 'What are the side effects of having cataract surgery?',\n",
       " 'What is the treatment for hyphema for children and the elderly?',\n",
       " 'How often should you see your eye doctor?',\n",
       " 'What is the follow-up for hyphema?',\n",
       " 'What is the home treatment for a chalazion?',\n",
       " 'What can you do to treat bloodshot eyes from allergies?',\n",
       " 'How do classes and vision devices help with vision loss?',\n",
       " 'How can I relieve my eye strain?',\n",
       " 'How does a subconjunctival hemorrhage (bleeding in eye) happen?',\n",
       " 'What causes acute angle-closure glaucoma?',\n",
       " 'What are some symptoms of angle closure glaucoma?',\n",
       " 'What does the treatment for corneal infections include?',\n",
       " 'Could your eyes be red because of allergies?',\n",
       " 'Could your eyes be red because of dry eyes?',\n",
       " 'When should you call a doctor about pinkeye?',\n",
       " 'How do you treat pinkeye at home?',\n",
       " 'Should I wash my clothes more if I have pinkeye?',\n",
       " 'Which eye drops are used to treat a pinkeye?',\n",
       " 'Can I wear my contacts if I have pinkeye?',\n",
       " 'How do you use a compress to treat pinkeye?',\n",
       " 'How do you keep pinkeye from spreading?',\n",
       " 'How can pain relievers cause dry eye?',\n",
       " 'How can acne medicines cause dry eye?',\n",
       " 'Will you still need glasses or contacts after astigmatic keratotomy eye surgery?',\n",
       " 'What causes astigmatism?',\n",
       " 'Will using a nightlight make my child nearsighted?',\n",
       " 'What are signs of a stye?',\n",
       " 'Which gender is more likely to get AMD?',\n",
       " 'Are there different types of age-related macular degeneration (AMD)?',\n",
       " 'What happens if you have wet age-related macular degeneration (AMD)?',\n",
       " 'How can diet affect my chances of AMD?',\n",
       " 'Does heart disease affect my chances of getting AMD?',\n",
       " 'Are genetics related to AMD?',\n",
       " 'What medicines can make your pupils look big?',\n",
       " 'What is benign episodic unilateral mydriasis?',\n",
       " 'What are the types of glaucoma?',\n",
       " 'What can I do for a parent who needs glaucoma surgery?',\n",
       " 'If my parent had glaucoma, will I get it?',\n",
       " 'What is an eye chart used for?',\n",
       " 'What kind of eye doctor should I go to?',\n",
       " 'How do you treat astigmatism?',\n",
       " 'Can marijuana treat glaucoma?',\n",
       " 'Can I wear contacts with glaucoma?',\n",
       " 'What can happen to your cornea as you age?',\n",
       " 'How do you treat closed-angle glaucoma?',\n",
       " 'What are the symptoms of closed-angle glaucoma?',\n",
       " 'What are the warning signs of glaucoma?',\n",
       " 'Can I prevent glaucoma?',\n",
       " 'Can you get surgery for nearsightedness?',\n",
       " \"What can make your eyes water when you're older?\",\n",
       " 'Will I need surgery if I have glaucoma?',\n",
       " 'What should I bring to an eye doctor appointment?',\n",
       " 'How is ocular hypertension treated?',\n",
       " 'When should you call a doctor about a stye?',\n",
       " 'What is a slit-lamp microscope used for?',\n",
       " 'What can I do about dry eyes?',\n",
       " 'Does high eye pressure mean I have glaucoma?',\n",
       " 'What is phacoemulsification?',\n",
       " 'How often should I get my eyes checked for glaucoma?',\n",
       " 'What should I do before I leave the eye doctor?',\n",
       " 'When should you get surgery for glaucoma first instead of eye drops?',\n",
       " 'What can I do for a parent with glaucoma?',\n",
       " 'What foods are good sources of zinc?',\n",
       " 'When should you call your doctor about your stye?',\n",
       " 'What does the S and C refer to on a prescription for glasses?',\n",
       " 'How are most cases of astigmatism treated?',\n",
       " 'Are different types of uveitis treated differently?',\n",
       " 'Where is the uvea?',\n",
       " 'What do dilating eye drops do?',\n",
       " 'How do you treat nearsightedness?',\n",
       " 'How do you treat age-related macular degeneration?',\n",
       " 'What are the symptoms of congenital glaucoma?',\n",
       " 'What if I have problems with the eye drops for glaucoma?',\n",
       " 'How do you treat retinal detachment?',\n",
       " 'What happens during an eye exam?',\n",
       " 'Can you get surgery for farsightedness?',\n",
       " 'Can I get my sight back with glaucoma?',\n",
       " 'How long does an eye appointment take?',\n",
       " 'What is an ophthalmoscope used for?',\n",
       " 'How do you treat farsightedness?',\n",
       " 'How long do styes last?',\n",
       " 'What are the risk factors for glaucoma?',\n",
       " 'How do you test for glaucoma?',\n",
       " 'What is an internal stye?',\n",
       " 'What are the symptoms of secondary glaucoma?',\n",
       " 'Who gets styes?',\n",
       " 'How long does glaucoma treatment last?',\n",
       " 'How can I prevent vision problems?',\n",
       " 'What if my stye keeps coming back?',\n",
       " 'How does glaucoma happen if you have diabetes?',\n",
       " 'What are the treatments for glaucoma in children',\n",
       " 'What will happen after a surgery for retinal detachment?',\n",
       " 'How do contact lenses cause pinkeye?',\n",
       " 'What are potential risks of taking vitamin E?',\n",
       " 'How is open-angle glaucoma treated?',\n",
       " 'What is \"indenting\" as a treatment for retinal detachment?',\n",
       " 'How can I avoid pinkeye?',\n",
       " 'What is the recommended daily allowance for vitamin E?',\n",
       " 'What is a blocked tear duct?',\n",
       " 'How is a blocked tear duct treated?',\n",
       " 'What should I do if my child gets infected with pinkeye?',\n",
       " 'How long does an exercise stress test last?',\n",
       " 'How can you prevent hypertensive retinopathy?',\n",
       " 'How is hypertensive retinopathy treated?',\n",
       " 'How does pinkeye infect people?',\n",
       " 'How should I use my contact lenses if I have pinkeye?',\n",
       " 'How can freezing or \"cryopexy\" help with treating retinal detachment?',\n",
       " 'Does vitamin E help your eyes?',\n",
       " 'What is the safe upper limit for vitamin E?',\n",
       " 'How is hypertensive retinopathy diagnosed?',\n",
       " 'How is glaucoma treated?',\n",
       " 'What can lead to permanent vision loss in glaucoma?',\n",
       " 'How are eye drops used for treating glaucoma?',\n",
       " 'When should I call a doctor about my vision if I have diabetes?',\n",
       " 'Why do you need regular eye exams?',\n",
       " 'How is a retinal tear diagnosed?',\n",
       " 'What is secondary glaucoma?',\n",
       " 'Does farsightedness change as you get older?',\n",
       " 'What are common eye diseases?',\n",
       " 'How do you treat cataracts?',\n",
       " 'Who is affected by color blindness?',\n",
       " 'How common is closed-angle glaucoma?',\n",
       " 'How do you treat an inflamed iris (iritis)?',\n",
       " \"What should you do if you feel like something's stuck in your eye?\",\n",
       " 'Are there different types of eye doctors?',\n",
       " 'What is color blindness?',\n",
       " 'Do eye twitches go away on their own?',\n",
       " \"What is it like to have surfer's eye?\",\n",
       " 'When does presbyopia happen?',\n",
       " 'What does it mean when you have corneal diseases?',\n",
       " 'How does glaucoma affect you?',\n",
       " 'How can your eyes fatigue?',\n",
       " \"How is surfer's eye diagnosed?\",\n",
       " 'How can you get eye fatigue from using smartphones and digital devices?',\n",
       " 'When are you likely to have computer vision syndrome?',\n",
       " 'What can happen if you have symptoms of eye fatigue?',\n",
       " 'Who is at risk of getting a detached retina?',\n",
       " 'How do doctors diagnose a detached retina?',\n",
       " 'What medications can you use to treat mild eye twitches?',\n",
       " 'How can zinc help with my dry eyes?',\n",
       " 'What does it mean if you see floaters?',\n",
       " 'When should you see a doctor about your eye fatigue?',\n",
       " 'What does it mean to be colorblind?',\n",
       " 'What diseases can cause vision problems?',\n",
       " \"What can help with symptoms of surfer's eye?\",\n",
       " 'What is the safe upper limit for lutein and zeaxanthin for vision?',\n",
       " 'Should I see a doctor about yellow patches on my eyelids?',\n",
       " 'What are some immunosuppressants that treat uveitis?',\n",
       " 'Can an immune system problem cause uveitis?',\n",
       " 'What does it mean when my eyes feel dry and irritated all the time?',\n",
       " 'What could happen if I have a family history of glaucoma and over 60?',\n",
       " 'What is nyctalopia?',\n",
       " 'Is eye fatigue common?',\n",
       " 'What is iritis or uveitis?',\n",
       " 'What other medications can be used to treat dry eyes?',\n",
       " 'How can you treat your blurry vision?',\n",
       " 'When should you call 911 about blurry vision?',\n",
       " 'Is my blurry vision caused by a migraine?',\n",
       " \"How is surfer's eye treated?\",\n",
       " 'How do benign essential blepharospasms occur?',\n",
       " 'What does it mean if you have retinal disorders?',\n",
       " 'How can you make changes in your eye-care routine to prevent eye fatigue?',\n",
       " 'What is a hemifacial spasm?',\n",
       " 'When should you see a doctor about floaters?',\n",
       " 'Which mental health conditions may be affected by photophobia?',\n",
       " 'What should you do if you think you have photophobia?',\n",
       " 'What tests can your doctor use to diagnose photophobia?',\n",
       " 'Which medicines can cause photophobia?',\n",
       " 'What is photophobia?',\n",
       " 'What are the symptoms of an acute closed-angle glaucoma?',\n",
       " 'What other eye conditions can lead to vision problems?',\n",
       " 'What is your visual field?',\n",
       " 'What causes iritis?',\n",
       " 'How do you treat uveitis?',\n",
       " 'What causes uveitis?',\n",
       " 'What are the parts of the uvea?',\n",
       " 'How is retinitis pigmentosa treated?',\n",
       " 'What causes glaucoma?',\n",
       " 'Can I avoid vision problems if I have a lazy eye?',\n",
       " 'How can you prevent keratoconus?',\n",
       " 'Are there treatments for colorblindness?',\n",
       " 'What happens when you stare at a screen for too long?',\n",
       " 'What kind of surgery repairs a retinal tear?',\n",
       " 'How do I know if I am colorblind?',\n",
       " 'What is opthalmia neonatorum?',\n",
       " 'How do you get pinkeye?',\n",
       " 'What are some safety tips for the dosage of my eye medication?',\n",
       " 'How can you treat dry eyes?',\n",
       " 'How should I take care of my contact lenses?',\n",
       " 'Can reading in the dark make your eyesight weaker?',\n",
       " 'What is a retinal tomography?',\n",
       " 'What happens during cataract surgery?',\n",
       " 'What are the side effects of having cataract surgery?',\n",
       " 'What is the treatment for hyphema for children and the elderly?',\n",
       " 'How often should you see your eye doctor?',\n",
       " 'What is the follow-up for hyphema?',\n",
       " 'What is the home treatment for a chalazion?',\n",
       " 'What can you do to treat bloodshot eyes from allergies?',\n",
       " 'How do classes and vision devices help with vision loss?',\n",
       " 'How can I relieve my eye strain?',\n",
       " 'How does a subconjunctival hemorrhage (bleeding in eye) happen?',\n",
       " 'What causes acute angle-closure glaucoma?',\n",
       " 'What are some symptoms of angle closure glaucoma?',\n",
       " 'What does the treatment for corneal infections include?',\n",
       " 'Could your eyes be red because of allergies?',\n",
       " 'Could your eyes be red because of dry eyes?',\n",
       " 'How can fixing your vision treat halos and glare?',\n",
       " 'What are some guidelines to prevent eye infections?',\n",
       " 'When should someone stop wearing contact lenses?',\n",
       " 'What is a non-contact tonometry?',\n",
       " 'What other treatments are available for vitreomacular adhesion (VMA)?',\n",
       " 'How is farsightedness diagnosed and treated?',\n",
       " 'When do eye freckles form?',\n",
       " 'What happens if cataracts interfere with day-to-day life?',\n",
       " 'How is an internal limiting membrane (ILM) done to help with vitreomacular adhesion (VMA)?',\n",
       " 'What does it mean when you have to hold books and newspapers farther away to read them?',\n",
       " 'What questions should you ask your doctor when it comes to a bleeding in the eye?',\n",
       " 'What does it mean if you have diabetes and your eyesight changes from day to day?',\n",
       " 'Could blepharitis cause my eyes to be bloodshot?',\n",
       " 'How common are corneal infections?',\n",
       " 'How can a balloon catheter dilation treat a blocked tear duct?',\n",
       " 'How can your environment cause halos and glare?',\n",
       " 'What could be irritating your eyes?',\n",
       " 'Is an allergy irritating your eyes?',\n",
       " 'How can you treat styes and chalazia?',\n",
       " 'What causes my eyes to get red?',\n",
       " 'How are chalazia treated?',\n",
       " 'What causes juvenile X-linked retinoschisis?',\n",
       " 'What should you know about a partial thickness corneal transplant?',\n",
       " 'How does a doctor treat nystagmus?',\n",
       " 'What is an external exam and pupil reactions in an eye checkup?',\n",
       " 'What is a slit-lamp exam?',\n",
       " 'How do I prepare for a photorefractive keratectomy?',\n",
       " 'What is acquired heterochromia?',\n",
       " 'What can treatment for uveitis do?',\n",
       " 'How does washing your hands often prevent eye injuries in the kitchen?',\n",
       " 'How does a vitrectomy treat uveitis?',\n",
       " 'How long will an eye exam take?',\n",
       " 'How are eye drops used for glaucoma?What medical treatment can you use for a subconjunctival hemorrhage?',\n",
       " 'How long does it take for a subconjunctival hemorrhage to go away?',\n",
       " 'What are the symptoms of corneal abrasion?',\n",
       " 'What are symptoms of periorbital cellulitis?',\n",
       " 'What do I need to know about periorbital cellulitis?',\n",
       " 'How is periorbital cellulitis diagnosed?',\n",
       " 'How can I treat blepharitis resulting from a problem with my oil glands?',\n",
       " 'How is amblyopia diagnosed?',\n",
       " 'How do I prepare for photorefractive keratectomy (PRK) eye surgery if I wear contacts?',\n",
       " 'What tests are done before a photorefractive keratectomy (PRK) eye surgery?',\n",
       " 'What happens during photorefractive keratectomy (PRK) eye surgery?',\n",
       " \"How do you know if you might have Fuchs' dystrophy?\",\n",
       " 'What are the disadvantages of photorefractive keratectomy (PRK) eye surgery?',\n",
       " 'What is lattice dystrophy?',\n",
       " 'What are the side effects of photorefractive keratectomy (PRK) eye surgery?',\n",
       " 'How does presbyopia occur?',\n",
       " 'What are symptoms of macular degeneration?',\n",
       " 'How do you correct vision?',\n",
       " 'What happens after photorefractive keratectomy (PRK) eye surgery?',\n",
       " \"What can you do if it's harder to read than it used to be?\",\n",
       " 'What does it mean when you have a fierce headache that started with wavy vision and flashes of light?',\n",
       " 'What does it mean when your eyes feel dry and irritated all the time?',\n",
       " 'When should you be tested for glaucoma?',\n",
       " 'What does it mean if you have spots and objects bounce around in your vision?',\n",
       " 'What should you do if your eyesight changes from day to day?',\n",
       " \"What does it mean if there's a film over everything you see?\",\n",
       " 'What vision problems can happen as you get older?',\n",
       " \"What can you do if you have cataracts that aren't bad enough to need surgery?\",\n",
       " 'What are some experimental treatments for retinitis pigmentosa (RP)?',\n",
       " 'How can I treat pinkeye at home?',\n",
       " 'What exams and tests are used for pinkeye?',\n",
       " 'Are there any conditions that look like pinkeye?',\n",
       " 'How can I prevent pinkeye?',\n",
       " 'What do dilating eye drops do?',\n",
       " 'How do you treat nearsightedness?',\n",
       " 'How do you treat age-related macular degeneration?',\n",
       " 'What are the symptoms of congenital glaucoma?',\n",
       " 'What if I have problems with the eye drops for glaucoma?',\n",
       " 'What are retinal disorders?',\n",
       " 'How do you treat retinal detachment?',\n",
       " 'What happens during an eye exam?',\n",
       " 'Can you get surgery for farsightedness?',\n",
       " 'Can I get my sight back with glaucoma?',\n",
       " 'How long does an eye appointment take?',\n",
       " 'What is an ophthalmoscope used for?',\n",
       " 'Will my eyes change as I get older?',\n",
       " 'How do you treat farsightedness?',\n",
       " 'How long do styes last?',\n",
       " 'What are the risk factors for glaucoma?',\n",
       " 'How do you test for glaucoma?',\n",
       " 'What is an internal stye?',\n",
       " 'What are the symptoms of secondary glaucoma?',\n",
       " 'Who gets styes?',\n",
       " 'How long does glaucoma treatment last?',\n",
       " 'How can I prevent vision problems?',\n",
       " 'What if my stye keeps coming back?',\n",
       " 'What are the symptoms of open-angle glaucoma?',\n",
       " 'How do I put drops in my eye?',\n",
       " 'What is a retinoscope?',\n",
       " 'How can you protect your eyes from AMD?',\n",
       " 'How often should I go to the eye doctor?',\n",
       " 'What causes night blindness?',\n",
       " 'What are some surgeries associated with glaucoma?',\n",
       " 'When should I go to the doctor about eyelid health?',\n",
       " 'What are the different forms of infectious conjunctivitis?',\n",
       " 'When should you talk to your doctor about heterochromia in infants?',\n",
       " 'When should you call the doctor about glaucoma?',\n",
       " 'How does amblyopia (lazy eye) develop?',\n",
       " 'What does rolling mean for your eyelid health?',\n",
       " 'Do beta-blockers cause dry eye?',\n",
       " \"How can antidepressants, Parkinson's medications, and sleeping pills cause dry eye?\",\n",
       " 'How can diuretics cause dry eye?',\n",
       " 'What should I do if my medications cause dry eye?',\n",
       " 'How can nasal decongestants cause dry eye?',\n",
       " 'How can medications cause dry eye?',\n",
       " 'How can wearing sunglasses help keep your eyes healthy?',\n",
       " 'What should you do while your eye heals from a corneal abrasion?',\n",
       " 'How can ocular rosacea affect your eyes?',\n",
       " 'How can inflammation from auto immune disease case dry eye?',\n",
       " \"How can Grave's disease affect your eyes?\",\n",
       " 'How can pruritus cause dry eye?',\n",
       " 'What type of skin problem is pruritus?',\n",
       " 'How can rheumatoid arthritis (RA) affect your eyes?',\n",
       " 'Can bacteria damage my eye?',\n",
       " 'What are symptoms of eye floaters?',\n",
       " 'What causes a corneal abrasion?',\n",
       " 'Do you need medical care if you have double vision?',\n",
       " 'Do you need treatment for eye floaters?',\n",
       " 'Does looking straight in the sun damage your sight?',\n",
       " 'What is a fluorescein angiogram?',\n",
       " 'What is a cover test in an eye checkup?',\n",
       " 'What is an applanation tonometry?',\n",
       " 'What is an eye ultrasound?',\n",
       " 'Which medicines can help treat open-angle glaucoma?',\n",
       " 'What can happen if I have retinal vein occlusion?',\n",
       " 'Can an eye injury lead to uveitis?',\n",
       " 'How is pinkeye from viruses treated?',\n",
       " 'How is pinkeye from allergies treated?',\n",
       " 'How can I prevent spreading pinkeye?',\n",
       " 'Which medical issues can cause uveitis?',\n",
       " 'How do you get a corneal abrasion?',\n",
       " 'What should I do while my eye heals from a corneal abrasion?',\n",
       " 'Are eye floaters normal?',\n",
       " 'Are there treatments for cross eyes and nystagmus?',\n",
       " 'What is the outlook for a subconjunctival hemorrhage?',\n",
       " 'Is excess tearing a serious problem?',\n",
       " 'How do cataracts develop?',\n",
       " 'How does keratoconus change the way I see?',\n",
       " 'How is a corneal abrasion treated?',\n",
       " 'Can corneal abrasions be prevented?',\n",
       " 'What are common vision problems?',\n",
       " 'What can you do for an inflamed iris (iritis)?',\n",
       " 'What are symptoms of eyestrain?',\n",
       " 'Is night blindness treatable?',\n",
       " 'How is retinitis pigmentosa treated?',\n",
       " \"Should I get cataract surgery even if my eyes don't bother me?\",\n",
       " 'Are there rules for using contact lenses?',\n",
       " 'Are there risks to wearing contact lenses?',\n",
       " 'How should I keep my eye medication?',\n",
       " 'How do you know if you have a corneal abrasion?',\n",
       " 'What is the conjunctiva in subconjunctival hemorrhage?',\n",
       " 'What are cones in our eyes?',\n",
       " 'Am I colorblind?',\n",
       " 'How can you protect your vision from the effects of diabetes?',\n",
       " 'Why do you have red eyes?',\n",
       " 'What are corneal abrasions?',\n",
       " 'What is a detached retina?',\n",
       " 'What is computer vision syndrome (CVS)?',\n",
       " 'What are corneal infections (keratitis)?',\n",
       " 'What is open-angle glaucoma?',\n",
       " 'What does the medical treatment of iritis entail?',\n",
       " 'What are the different types of retinal disorders?',\n",
       " 'What are the symptoms of trichiasis?',\n",
       " 'What are the symptoms of congenital glaucoma?',\n",
       " 'What are the best ways to treat blocked tear ducts?',\n",
       " 'Besides goggles or eye protection, how can I protect against eye injuries?',\n",
       " 'How is a retinoblastoma diagnosed?',\n",
       " \"How do I determine if I'm legally blind?\",\n",
       " 'Should I go to my eye exam?',\n",
       " 'What is trichiasis?',\n",
       " 'What causes macular dystrophy?',\n",
       " \"What could happen after surgery for surfer's eye?\",\n",
       " 'What causes a stye?',\n",
       " 'How do you know if you have a corneal abrasion?',\n",
       " 'What is the conjunctiva in subconjunctival hemorrhage?',\n",
       " 'What does it mean when I have cross eyes?',\n",
       " 'What does it mean when my eyes feel dry and irritated all the time?',\n",
       " 'What could happen if I have a family history of glaucoma and over 60?',\n",
       " 'What is nyctalopia?',\n",
       " 'What is pinkeye?',\n",
       " 'Can I prevent a detached retina?',\n",
       " 'What is the treatment for an infected cornea?',\n",
       " \"Can newborns get Horner's syndrome?\",\n",
       " 'How can veterans get help with their vision?',\n",
       " 'What are the symptoms of dry eyes?',\n",
       " 'What is gestational diabetes?',\n",
       " \"How is Horner's syndrome diagnosed?\",\n",
       " 'What is radial keratotomy eye surgery?',\n",
       " 'Is it important to diagnose glaucoma early?',\n",
       " 'What causes blocked tear ducts in infants?',\n",
       " 'Does farsightedness improve over time?',\n",
       " 'How is optic neuritis treated?',\n",
       " 'What are risk factors for glaucoma?',\n",
       " 'What is blepharitis?',\n",
       " 'How is a detached retina treated using pneumatic retinopexy?',\n",
       " 'Who is more likely to get uveitis?',\n",
       " 'How can you give your eyes a break to treat computer vision syndrome (CVS)?',\n",
       " 'How is a lazy eye treated?',\n",
       " 'Does strabismus always cause amblyopia?',\n",
       " 'What are symptoms of farsightedness?',\n",
       " 'What kind of vision problems can veterans have?',\n",
       " 'How do I know if I have acute closed-angle glaucoma?',\n",
       " 'Can children with crossed eyes be treated?',\n",
       " 'What symptoms indicate that my eye should be examined by a specialist?',\n",
       " 'Do I need surgery if I have a stye?',\n",
       " 'What is the choroid in the eye?',\n",
       " 'What is an eye exam?',\n",
       " 'Why are eye doctor appointments important?',\n",
       " 'What are the symptoms of an acute closed-angle glaucoma?',\n",
       " 'What other eye conditions can lead to vision problems?',\n",
       " 'What is your visual field?',\n",
       " 'Can surgery treat blocked tear ducts?',\n",
       " 'What other vision problems could my child have?',\n",
       " 'How are eye drops used to rewet contact lenses?',\n",
       " 'What does it mean when my eyesight changes from day to day and I have diabetes?',\n",
       " 'What is choroiditis?',\n",
       " \"What does it mean when my child's eyes cross or don't line up with each other?\",\n",
       " 'What are the most common lens problem?',\n",
       " 'What are foreign bodies in relation to eye problems?',\n",
       " 'What can cause eye floaters?',\n",
       " 'What are the symptoms of glaucoma?',\n",
       " 'Who can get conjunctivitis (pinkeye)?',\n",
       " 'What can you do to avoid recurring iritis?',\n",
       " 'What does it mean to have dry eyes?',\n",
       " 'What does it mean to have crossed eyes (strabismus)?',\n",
       " 'How do you get Duane syndrome (DS)?',\n",
       " \"How can you treat a blocked tear duct that doesn't open on its own?\",\n",
       " 'What happens after a cornea transplant surgery?',\n",
       " 'How is dacryocystorhinostomy (DCR) surgery performed?',\n",
       " 'When should I stop taking eye medication?',\n",
       " \"How do you treat what's irritating your eyes?\",\n",
       " 'What can cause corneal opacities?',\n",
       " 'How often do people get fungal infections in the eye?',\n",
       " 'What is the recommended daily allowance for lutein and zeaxanthin?',\n",
       " 'What are the types of retinitis?',\n",
       " 'What happens to your eyes in your 40s?',\n",
       " 'Why are vision tests important during an eye exam?',\n",
       " 'What is the choroid in the eye?',\n",
       " 'What is an eye exam?',\n",
       " 'Why are eye doctor appointments important?',\n",
       " 'What are the symptoms of an acute closed-angle glaucoma?',\n",
       " 'What other eye conditions can lead to vision problems?',\n",
       " 'What is your visual field?',\n",
       " 'Can surgery treat blocked tear ducts?',\n",
       " 'What other vision problems could my child have?',\n",
       " 'How are eye drops used to rewet contact lenses?',\n",
       " 'What does it mean when my eyesight changes from day to day and I have diabetes?',\n",
       " 'What is choroiditis?',\n",
       " \"What does it mean when my child's eyes cross or don't line up with each other?\",\n",
       " 'What are the most common lens problem?',\n",
       " 'What are foreign bodies in relation to eye problems?',\n",
       " 'What can cause eye floaters?',\n",
       " 'What are the symptoms of glaucoma?',\n",
       " 'Who can get conjunctivitis (pinkeye)?',\n",
       " 'What can you do to avoid recurring iritis?',\n",
       " 'What symptoms do halos and glare cause?',\n",
       " 'How common are corneal infections?',\n",
       " 'How can your environment cause halos and glare?',\n",
       " 'What could be irritating your eyes?',\n",
       " 'Is an allergy irritating your eyes?',\n",
       " 'How can you get blepharitis?',\n",
       " 'How do bacteria get in my eyes?',\n",
       " 'What is the role of the excimer laser in LASIK surgery?',\n",
       " 'How is LASIK different from other laser eye surgeries?',\n",
       " 'When does medical insurance cover refractive or laser eye surgery?',\n",
       " 'Does health insurance cover refractive or laser eye surgery?',\n",
       " 'How do I know if laser epithelial keratomileusis (LASEK) eye surgery is right for me?',\n",
       " 'What is PRELEX surgery?',\n",
       " 'How do I prepare for laser epithelial keratomileusis (LASEK) eye surgery if I have contact Lenses?',\n",
       " 'Is laser epithelial keratomileusis (LASEK) effective?',\n",
       " 'What happens after laser epithelial keratomileusis (LASEK) eye surgery?',\n",
       " 'When should I call my doctor about laser epithelial keratomileusis (LASEK) eye surgery?',\n",
       " 'How do I prepare for laser epithelial keratomileusis (LASEK) eye surgery?',\n",
       " 'What are the advantages of LASEK eye surgery?',\n",
       " 'What are steps of LASIK surgery?',\n",
       " 'What are the disadvantages of LASEK eye surgery?',\n",
       " 'What are general requirements before doing LASIK surgery?',\n",
       " 'When should you call a doctor about LASEK eye surgery?',\n",
       " 'What are types of refractive surgery?',\n",
       " 'What do I need to do on the day of my laser epithelial keratomileusis (LASEK) eye surgery?',\n",
       " 'Does everyone get eye problems?',\n",
       " 'What happens when dry eyes create too many tears?',\n",
       " 'What problems in the brain cause double vision?',\n",
       " 'Who should get an endothelial keratoplasty?',\n",
       " 'How does map-dot-fingerprint dystrophy affect your cornea?',\n",
       " 'What are diopters for reading glasses?',\n",
       " 'How can you treat a black eye?',\n",
       " 'Will you need treatment for eye floaters?',\n",
       " 'How do you prepare for a photorefractive keratectomy on the day of surgery?',\n",
       " 'How can I be treated if I have a lot of eye floaters?',\n",
       " 'What do ophthalmologists do?',\n",
       " 'What are possible future uses for eye drops?',\n",
       " 'Why would I need to get my eyes checked often?',\n",
       " 'What vitamins are good for my eyes?',\n",
       " 'Should you take supplements for your eyes?',\n",
       " 'How do doctors treat angle closure glaucoma?',\n",
       " 'What health conditions can cause angle closure glaucoma?',\n",
       " 'Can supplements help dry eyes?',\n",
       " 'What is a tonometer when getting an eye exam?',\n",
       " 'What should someone expect during an eye exam?',\n",
       " 'How does someone prepare for an eye exam?',\n",
       " 'What are some terms Iâ€™ll hear about eyeglass lenses, and what do they mean?',\n",
       " 'What are some good features to have in eyeglass lenses?',\n",
       " 'What are the symptoms of meibomian gland dysfunction (MGD)?',\n",
       " 'Can you consider surgery to treat aqueous tear-deficient dry eye?',\n",
       " 'What is the outlook for pinkeye?',\n",
       " 'What are the symptoms of chronic open-angle glaucoma?',\n",
       " 'Is skin cancer related to styes or chalazia?',\n",
       " \"Who can get Horner's syndrome?\",\n",
       " 'When should I see a doctor about eye floaters?',\n",
       " 'Do eye floaters happen during migraine headaches?',\n",
       " 'How are eye drops used in LASIK eye surgery?',\n",
       " 'How can eye drops help with eye allergies?',\n",
       " 'Are eye drops addictive?',\n",
       " 'Who can get eye floaters?',\n",
       " 'Does my baby need an eye exam?',\n",
       " 'Are there new types of eye drops?',\n",
       " 'What are symptoms of anterior and posterior scleritis?',\n",
       " 'How do you know if you have cataracts with your diabetes?',\n",
       " 'What are the symptoms of glaucoma related to diabetes?',\n",
       " 'Can diabetes affect your eyes?',\n",
       " 'How can you get diabetic retinopathy?',\n",
       " 'What is treatment important if you have scleritis?',\n",
       " 'When should I use anti-redness drops for my eyes?',\n",
       " 'What tests are done to diagnose scleritis?',\n",
       " 'How can I find preservative-free eye drops?',\n",
       " 'What causes scleritis?',\n",
       " 'How is herpes in your eye treated?',\n",
       " 'Can I get herpes in my eye?',\n",
       " 'How is an infected cornea treated?',\n",
       " 'When should I see a doctor about dry eyes after LASIK?',\n",
       " 'What are the symptoms of hypertensive retinopathy?',\n",
       " 'What are some terms Iâ€™ll hear about eyeglass lenses, and what do they mean?',\n",
       " 'What are some things that call for special eyeglasses?',\n",
       " 'How do eyeglasses work?',\n",
       " 'How should a new pair of eyeglasses feel when I put them on?',\n",
       " 'Why should you watch out for preservatives in artificial tears relative to eye drops?',\n",
       " 'What are the symptoms of meibomian gland dysfunction (MGD)?',\n",
       " 'What are self-care treatments for meibomian gland dysfunction (MGD)?',\n",
       " 'How can you prevent hypertensive retinopathy?',\n",
       " 'How can diuretics cause dry eye?',\n",
       " 'What should I do if my medications cause dry eye?',\n",
       " 'How can nasal decongestants cause dry eye?',\n",
       " 'How can medications cause dry eye?',\n",
       " 'What is the safe upper limit for vitamin E?',\n",
       " 'What are the different types of ear drops?',\n",
       " 'What do I need to know before undergoing vitrectomy?',\n",
       " 'What happens during a vitrectomy surgery?',\n",
       " 'Why do I need a vitrectomy?',\n",
       " 'What are the risks in vitrectomy?',\n",
       " 'What does an online vision test require?',\n",
       " 'Do problems with tears lead to dry eyes?',\n",
       " 'Why should I see a doctor about dry eyes?',\n",
       " 'What will an online vision test check?',\n",
       " \"If allergies aren't the cause of your dry eyes, what's the treatment?\",\n",
       " 'How will I recover from a corneal abrasion?',\n",
       " 'Is it safe to ignore eye floaters?',\n",
       " 'How can eye drops help?',\n",
       " 'What do optometrists (OD) do?',\n",
       " 'What type of eye drops should I use to treat eye allergies?',\n",
       " 'What foods have zinc?',\n",
       " 'How can certain medicines cause heterochromia?',\n",
       " 'What can make my eyes itch?',\n",
       " 'What should I do before I get an eye exam for my child?',\n",
       " 'What are the symptoms of secondary glaucoma and other forms?',\n",
       " 'What causes amblyopia (lazy eye)?',\n",
       " 'How can losing weight help with papilledema?',\n",
       " 'What are the side effects of ocriplasmin (Jetrea) for vitreomacular adhesion (VMA)?',\n",
       " 'How is an internal limiting membrane (ILM) done to help with vitreomacular adhesion (VMA)?',\n",
       " 'What conditions may night blindness be linked to?',\n",
       " 'What is the follow-up care for pinkeye?',\n",
       " 'What questions should I ask my doctor about pinkeye?',\n",
       " 'What is the medical treatment for pinkeye?',\n",
       " 'What is laser epithelial keratomileusis (LASEK) eye surgery?',\n",
       " 'What does vision corrective surgery do?',\n",
       " 'Who can get shingles?',\n",
       " 'What is the outlook for pinkeye?',\n",
       " 'What is a prosthetic eye?',\n",
       " 'If I have an object stuck in my eye, how should I prepare the solution to flush out my eye?',\n",
       " 'How can being legally blind affect you?',\n",
       " 'Are there eye drops for pinkeye?',\n",
       " 'When should you see a doctor about pinkeye?',\n",
       " 'What can you do to prevent pinkeye?',\n",
       " 'Can I wear my contacts if I have pinkeye?',\n",
       " 'Should I wash my clothes more if I have pinkeye?',\n",
       " 'When should you call a doctor about pinkeye?',\n",
       " 'How do you treat pinkeye at home?',\n",
       " 'Which eye drops are used to treat a pinkeye?',\n",
       " 'How do you use a compress to treat pinkeye?',\n",
       " 'How do you keep pinkeye from spreading?',\n",
       " \"Does using a nightlight in your child's room cause nearsightedness?\",\n",
       " 'How do you treat closed-angle glaucoma?',\n",
       " 'How is ocular hypertension treated?',\n",
       " 'What if I have problems with the eye drops for glaucoma?',\n",
       " 'What will your doctor do for a subconjunctival hemorrhage?',\n",
       " 'How is a subconjunctival hemorrhage treated?',\n",
       " 'Can LASIK help people with keratoconus?',\n",
       " 'How can keratoconus change your vision?',\n",
       " 'What are symptoms of a subconjunctival hemorrhage?',\n",
       " 'What can you do for a subconjunctival hemorrhage?',\n",
       " 'What can you do about halos and glare caused by cataracts?',\n",
       " 'What is juvenile macular degeneration?',\n",
       " \"What is Horner's syndrome?\",\n",
       " 'How is benign essential blepharospasm treated?',\n",
       " \"What should you do if your pupils don't get smaller with bright light?\",\n",
       " 'How are eye drops used in an eye exam?',\n",
       " 'How do I prepare for photorefractive keratectomy (PRK) eye surgery?',\n",
       " 'What are some safety tips for my eye medication while travelling?',\n",
       " 'How do you know if you need treatment for eye fatigue?',\n",
       " 'What is tunnel vision?',\n",
       " 'What can you do to check if you have double vision?',\n",
       " 'When should you see an eye doctor about problems with contact lenses?',\n",
       " 'What are alternative treatments for eye twitches?',\n",
       " 'What can you do to restore good reading vision if you have presbyopia?',\n",
       " 'Who can get chronic open-angle glaucoma?',\n",
       " 'How is conjunctivitis treated?',\n",
       " 'What are the side effects of intubation?',\n",
       " 'How is microsurgery used for treating glaucoma?',\n",
       " 'Why should you get an eye exam if you think you have glaucoma?',\n",
       " 'How do you know if your cornea is warped from double vision?',\n",
       " 'What can lead to permanent vision loss in glaucoma?',\n",
       " 'How often do eye problems happen?',\n",
       " 'Who can be affected by computer vision syndrome (CVS)?',\n",
       " 'How do you get eyestrain?',\n",
       " 'What should you know about eye problems?',\n",
       " 'How do you treat corneal diseases?',\n",
       " 'Is skin cancer related to styes or chalazia?',\n",
       " 'What is a vitrectomy?',\n",
       " 'What are the symptoms of chronic open-angle glaucoma?',\n",
       " 'What may cause my eye to bleed?',\n",
       " 'What is corneal topography?',\n",
       " 'What is map-dot-fingerprint dystrophy?',\n",
       " 'How is lattice dystrophy treated?',\n",
       " \"What are symptoms of Fuchs' dystrophy?\",\n",
       " 'How do you treat ocular herpes?',\n",
       " 'Do you need surgery to treat amblyopia?',\n",
       " 'How do you treat keratoconus?',\n",
       " 'What are symptoms of keratitis?',\n",
       " 'What are symptoms of map-dot-fingerprint dystrophy?',\n",
       " 'What is keratoconus?',\n",
       " 'What does it mean to have 20/20 vision?',\n",
       " 'How is map-dot-fingerprint dystrophy treated?',\n",
       " 'What is lattice dystrophy?',\n",
       " 'What does it mean when I have a crazy headache that started with wavy vision and flashes of light?',\n",
       " 'What common eye problems can cause halos and glare?',\n",
       " 'Can eye surgery cause vision problems?',\n",
       " 'When do you see glare?',\n",
       " 'What are dry eyes?',\n",
       " 'How might a person lose an eye?',\n",
       " 'How do you get a stye?',\n",
       " 'What can happen if your cornea is damaged?',\n",
       " 'Who is more likely to get uveitis?',\n",
       " 'How is a lazy eye treated?',\n",
       " 'How can you give your eyes a break to treat computer vision syndrome (CVS)?',\n",
       " 'What are symptoms of pinkeye?',\n",
       " \"What should you do if symptoms of pinkeye don't improve?\",\n",
       " 'How can you prevent pinkeye?',\n",
       " 'Can you spread pinkeye?',\n",
       " 'How can you treat pinkeye at home?',\n",
       " 'What are the main symptoms of pinkeye?',\n",
       " 'What is degenerative myopia?',\n",
       " 'What is low vision?',\n",
       " 'What has been shown about changing the ingredients of vision supplements for eye health?',\n",
       " 'What are the symptoms of congenital glaucoma in infants?',\n",
       " 'When should you see an eye care specialist for a black eye?',\n",
       " 'What are the symptoms of open-angle glaucoma?',\n",
       " 'Can treatment cure papilledema?',\n",
       " 'What does it mean if your eye pressure is too high or too low?',\n",
       " 'Will being pregnant affect my eyes?',\n",
       " 'How do you treat a bump on your eyelid?',\n",
       " 'What does it mean to have crossed eyes (strabismus)?',\n",
       " 'What is a retinal tear?',\n",
       " 'How can you treat eyelid problems?',\n",
       " 'How are cataracts treated?',\n",
       " 'How is double vision treated?',\n",
       " \"Who can get surfer's eye?\",\n",
       " 'Is my blurry vision caused by multiple sclerosis (MS)?',\n",
       " 'Is my blurry vision related to my pregnancy?',\n",
       " 'What does it mean when a child cant see well out of one eye?',\n",
       " 'How should I rearrange my desk to treat computer vision syndrome?',\n",
       " 'What is vitreous for treating uveitis?',\n",
       " 'Are there different types of uveitis?',\n",
       " 'What puts you at risk for uveitis?',\n",
       " 'What are some health problems that can cause aqueous tear-deficient dry eye?',\n",
       " 'What is myopia?',\n",
       " 'What is strabismus?',\n",
       " 'What is the retina?',\n",
       " 'What can happen if you damage your cornea?',\n",
       " 'What can happen to my vision as I age?',\n",
       " 'What is macular edema?',\n",
       " 'Are eye drops safe for kids?',\n",
       " 'What is presbyopia?',\n",
       " 'What is glaucoma?',\n",
       " 'How do you get a corneal injury?',\n",
       " 'What is cryotherapy?',\n",
       " 'What is hyperopia?',\n",
       " 'What does it mean when spots and objects bounce around in my vision?',\n",
       " 'What is the exam like for bleeding in the eye?',\n",
       " 'What is the role of the cornea in corneal opacities?',\n",
       " 'What can you do if your eyes feel dry and irritated all the time?',\n",
       " 'How is presbyopia treated?',\n",
       " 'How can birth control pills and other hormones cause dry eyes?',\n",
       " 'What steps should I follow to see where an object is stuck in my eye?',\n",
       " 'What should someone do before leaving their eye exam?',\n",
       " 'When should I get a baseline eye exam for reading glasses?',\n",
       " 'What are the symptoms of a chalazion?',\n",
       " 'How long do corneal abrasions take to heal?',\n",
       " 'How can antibiotics treat a blocked tear duct?',\n",
       " 'Are infections causing your irritated eyes?',\n",
       " 'How do you treat infections that cause irritated eyes?',\n",
       " 'What can cause keratitis?',\n",
       " 'What is a dilated pupillary exam?',\n",
       " 'How does someone choose an eye doctor?',\n",
       " 'How can you wash crusty lashes to treat dry eyes?',\n",
       " 'When should you get ocriplasmin (Jetrea) for vitreomacular adhesion (VMA)?',\n",
       " 'How can you treat eyestrain?',\n",
       " 'What does it mean if your eye pressure is too high or too low?',\n",
       " 'When should you see your doctor about large pupils?',\n",
       " 'What causes juvenile macular degeneration (JMD)?',\n",
       " ...]"
      ]
     },
     "execution_count": 5,
     "metadata": {},
     "output_type": "execute_result"
    }
   ],
   "source": [
    "question"
   ]
  },
  {
   "cell_type": "code",
   "execution_count": 6,
   "metadata": {},
   "outputs": [
    {
     "data": {
      "text/plain": [
       "What is lattice dystrophy?                                             6\n",
       "How can eye exams help you keep your eyes healthy?                     6\n",
       "What are the symptoms of congenital glaucoma?                          5\n",
       "What does it mean when my eyes feel dry and irritated all the time?    5\n",
       "How do benign essential blepharospasms occur?                          5\n",
       "                                                                      ..\n",
       "Can you have a stroke in your eye?                                     1\n",
       "What is LASIK eye surgery?                                             1\n",
       "Why do I have a lump in my eyelid?                                     1\n",
       "What is PRELEX surgery?                                                1\n",
       "Why do I have to clean my Contact Lenses ?                             1\n",
       "Name: I have \"spots\" floating around in my eye. Should I be worried?, Length: 1834, dtype: int64"
      ]
     },
     "execution_count": 6,
     "metadata": {},
     "output_type": "execute_result"
    }
   ],
   "source": [
    "pd.value_counts(df['I have \"spots\" floating around in my eye. Should I be worried?'])"
   ]
  },
  {
   "cell_type": "code",
   "execution_count": 7,
   "metadata": {},
   "outputs": [],
   "source": [
    "ques = set(question)"
   ]
  },
  {
   "cell_type": "code",
   "execution_count": 8,
   "metadata": {},
   "outputs": [
    {
     "data": {
      "text/plain": [
       "1834"
      ]
     },
     "execution_count": 8,
     "metadata": {},
     "output_type": "execute_result"
    }
   ],
   "source": [
    "len(ques)"
   ]
  },
  {
   "cell_type": "code",
   "execution_count": 9,
   "metadata": {},
   "outputs": [],
   "source": [
    "ques2 = list(ques)"
   ]
  },
  {
   "cell_type": "code",
   "execution_count": 10,
   "metadata": {},
   "outputs": [],
   "source": [
    "vision = [s for s in ques2 if \"vision\" in s]"
   ]
  },
  {
   "cell_type": "code",
   "execution_count": 11,
   "metadata": {},
   "outputs": [
    {
     "data": {
      "text/plain": [
       "140"
      ]
     },
     "execution_count": 11,
     "metadata": {},
     "output_type": "execute_result"
    }
   ],
   "source": [
    "len(vision)"
   ]
  },
  {
   "cell_type": "code",
   "execution_count": 12,
   "metadata": {},
   "outputs": [],
   "source": [
    "symptom = [s for s in ques2 if \"symptom\" in s]"
   ]
  },
  {
   "cell_type": "code",
   "execution_count": 13,
   "metadata": {
    "scrolled": true
   },
   "outputs": [
    {
     "data": {
      "text/plain": [
       "105"
      ]
     },
     "execution_count": 13,
     "metadata": {},
     "output_type": "execute_result"
    }
   ],
   "source": [
    "len(symptom)"
   ]
  },
  {
   "cell_type": "code",
   "execution_count": 14,
   "metadata": {},
   "outputs": [],
   "source": [
    "doctor = [s for s in ques2 if \"doctor\" in s]"
   ]
  },
  {
   "cell_type": "code",
   "execution_count": 15,
   "metadata": {},
   "outputs": [
    {
     "data": {
      "text/plain": [
       "96"
      ]
     },
     "execution_count": 15,
     "metadata": {},
     "output_type": "execute_result"
    }
   ],
   "source": [
    "len(doctor)"
   ]
  },
  {
   "cell_type": "code",
   "execution_count": 16,
   "metadata": {},
   "outputs": [],
   "source": [
    "treat = [s for s in ques2 if \"treat\" in s]"
   ]
  },
  {
   "cell_type": "code",
   "execution_count": 17,
   "metadata": {},
   "outputs": [
    {
     "data": {
      "text/plain": [
       "245"
      ]
     },
     "execution_count": 17,
     "metadata": {},
     "output_type": "execute_result"
    }
   ],
   "source": [
    "len(treat)"
   ]
  },
  {
   "cell_type": "code",
   "execution_count": 18,
   "metadata": {},
   "outputs": [],
   "source": [
    "health = [s for s in ques2 if \"health\" in s]"
   ]
  },
  {
   "cell_type": "code",
   "execution_count": 19,
   "metadata": {
    "scrolled": true
   },
   "outputs": [
    {
     "data": {
      "text/plain": [
       "23"
      ]
     },
     "execution_count": 19,
     "metadata": {},
     "output_type": "execute_result"
    }
   ],
   "source": [
    "len(health)"
   ]
  },
  {
   "cell_type": "code",
   "execution_count": 20,
   "metadata": {},
   "outputs": [],
   "source": [
    "diagnose = [s for s in ques2 if \"diagnose\" in s]"
   ]
  },
  {
   "cell_type": "code",
   "execution_count": 21,
   "metadata": {
    "scrolled": true
   },
   "outputs": [
    {
     "data": {
      "text/plain": [
       "45"
      ]
     },
     "execution_count": 21,
     "metadata": {},
     "output_type": "execute_result"
    }
   ],
   "source": [
    "len(diagnose)"
   ]
  },
  {
   "cell_type": "code",
   "execution_count": 22,
   "metadata": {},
   "outputs": [],
   "source": [
    "problem = [s for s in ques2 if \"problem\" in s]"
   ]
  },
  {
   "cell_type": "code",
   "execution_count": 23,
   "metadata": {
    "scrolled": true
   },
   "outputs": [
    {
     "data": {
      "text/plain": [
       "60"
      ]
     },
     "execution_count": 23,
     "metadata": {},
     "output_type": "execute_result"
    }
   ],
   "source": [
    "len(problem)"
   ]
  },
  {
   "cell_type": "code",
   "execution_count": 24,
   "metadata": {},
   "outputs": [],
   "source": [
    "dryeye = [s for s in ques2 if \"dry\" in s]"
   ]
  },
  {
   "cell_type": "code",
   "execution_count": 25,
   "metadata": {},
   "outputs": [
    {
     "data": {
      "text/plain": [
       "87"
      ]
     },
     "execution_count": 25,
     "metadata": {},
     "output_type": "execute_result"
    }
   ],
   "source": [
    "len(dryeye)"
   ]
  },
  {
   "cell_type": "code",
   "execution_count": 26,
   "metadata": {},
   "outputs": [],
   "source": [
    "lens = [s for s in ques2 if \"lens\" in s]"
   ]
  },
  {
   "cell_type": "code",
   "execution_count": 27,
   "metadata": {
    "scrolled": true
   },
   "outputs": [
    {
     "data": {
      "text/plain": [
       "62"
      ]
     },
     "execution_count": 27,
     "metadata": {},
     "output_type": "execute_result"
    }
   ],
   "source": [
    "len(lens)"
   ]
  },
  {
   "cell_type": "code",
   "execution_count": 28,
   "metadata": {},
   "outputs": [],
   "source": [
    "glaucoma = [s for s in ques2 if \"glaucoma\" in s]"
   ]
  },
  {
   "cell_type": "code",
   "execution_count": 29,
   "metadata": {},
   "outputs": [
    {
     "data": {
      "text/plain": [
       "117"
      ]
     },
     "execution_count": 29,
     "metadata": {},
     "output_type": "execute_result"
    }
   ],
   "source": [
    "len(glaucoma)"
   ]
  },
  {
   "cell_type": "code",
   "execution_count": 30,
   "metadata": {},
   "outputs": [],
   "source": [
    "pinkeye = [s for s in ques2 if \"pink\" in s]"
   ]
  },
  {
   "cell_type": "code",
   "execution_count": 31,
   "metadata": {},
   "outputs": [
    {
     "data": {
      "text/plain": [
       "54"
      ]
     },
     "execution_count": 31,
     "metadata": {},
     "output_type": "execute_result"
    }
   ],
   "source": [
    "len(pinkeye)"
   ]
  },
  {
   "cell_type": "code",
   "execution_count": 32,
   "metadata": {},
   "outputs": [],
   "source": [
    "exam = [s for s in ques2 if \"exam\" in s]"
   ]
  },
  {
   "cell_type": "code",
   "execution_count": 33,
   "metadata": {},
   "outputs": [
    {
     "data": {
      "text/plain": [
       "60"
      ]
     },
     "execution_count": 33,
     "metadata": {},
     "output_type": "execute_result"
    }
   ],
   "source": [
    "len(exam)"
   ]
  },
  {
   "cell_type": "code",
   "execution_count": 34,
   "metadata": {},
   "outputs": [],
   "source": [
    "surgery = [s for s in ques2 if \"surg\" in s]"
   ]
  },
  {
   "cell_type": "code",
   "execution_count": 35,
   "metadata": {},
   "outputs": [
    {
     "data": {
      "text/plain": [
       "135"
      ]
     },
     "execution_count": 35,
     "metadata": {},
     "output_type": "execute_result"
    }
   ],
   "source": [
    "len(surgery)"
   ]
  },
  {
   "cell_type": "code",
   "execution_count": 36,
   "metadata": {},
   "outputs": [],
   "source": [
    "cataract = [s for s in ques2 if \"cataract\" in s]"
   ]
  },
  {
   "cell_type": "code",
   "execution_count": 37,
   "metadata": {
    "scrolled": true
   },
   "outputs": [
    {
     "data": {
      "text/plain": [
       "29"
      ]
     },
     "execution_count": 37,
     "metadata": {},
     "output_type": "execute_result"
    }
   ],
   "source": [
    "len(cataract)"
   ]
  },
  {
   "cell_type": "code",
   "execution_count": 38,
   "metadata": {},
   "outputs": [],
   "source": [
    "care = [s for s in ques2 if \"care\" in s]"
   ]
  },
  {
   "cell_type": "code",
   "execution_count": 39,
   "metadata": {
    "scrolled": true
   },
   "outputs": [
    {
     "data": {
      "text/plain": [
       "15"
      ]
     },
     "execution_count": 39,
     "metadata": {},
     "output_type": "execute_result"
    }
   ],
   "source": [
    "len(care)"
   ]
  },
  {
   "cell_type": "code",
   "execution_count": 40,
   "metadata": {},
   "outputs": [],
   "source": [
    "need = [s for s in ques2 if \"need\" in s]"
   ]
  },
  {
   "cell_type": "code",
   "execution_count": 41,
   "metadata": {
    "scrolled": true
   },
   "outputs": [
    {
     "data": {
      "text/plain": [
       "59"
      ]
     },
     "execution_count": 41,
     "metadata": {},
     "output_type": "execute_result"
    }
   ],
   "source": [
    "len(need)"
   ]
  },
  {
   "cell_type": "code",
   "execution_count": 42,
   "metadata": {},
   "outputs": [],
   "source": [
    "Help = [s for s in ques2 if \"help\" in s]"
   ]
  },
  {
   "cell_type": "code",
   "execution_count": 43,
   "metadata": {},
   "outputs": [
    {
     "data": {
      "text/plain": [
       "80"
      ]
     },
     "execution_count": 43,
     "metadata": {},
     "output_type": "execute_result"
    }
   ],
   "source": [
    "len(Help)"
   ]
  },
  {
   "cell_type": "code",
   "execution_count": 44,
   "metadata": {},
   "outputs": [],
   "source": [
    "cause = [s for s in ques2 if \"cause\" in s]"
   ]
  },
  {
   "cell_type": "code",
   "execution_count": 45,
   "metadata": {},
   "outputs": [
    {
     "data": {
      "text/plain": [
       "166"
      ]
     },
     "execution_count": 45,
     "metadata": {},
     "output_type": "execute_result"
    }
   ],
   "source": [
    "len(cause)"
   ]
  },
  {
   "cell_type": "code",
   "execution_count": 46,
   "metadata": {},
   "outputs": [],
   "source": [
    "hyphema = [s for s in ques2 if \"hyphema\" in s]"
   ]
  },
  {
   "cell_type": "code",
   "execution_count": 47,
   "metadata": {},
   "outputs": [
    {
     "data": {
      "text/plain": [
       "8"
      ]
     },
     "execution_count": 47,
     "metadata": {},
     "output_type": "execute_result"
    }
   ],
   "source": [
    "len(hyphema)"
   ]
  },
  {
   "cell_type": "code",
   "execution_count": 48,
   "metadata": {},
   "outputs": [],
   "source": [
    "stroke = [s for s in ques2 if \"stroke\" in s]"
   ]
  },
  {
   "cell_type": "code",
   "execution_count": 49,
   "metadata": {},
   "outputs": [
    {
     "data": {
      "text/plain": [
       "15"
      ]
     },
     "execution_count": 49,
     "metadata": {},
     "output_type": "execute_result"
    }
   ],
   "source": [
    "len(stroke)"
   ]
  },
  {
   "cell_type": "code",
   "execution_count": 50,
   "metadata": {},
   "outputs": [],
   "source": [
    "cornea = [s for s in ques2 if \"cornea\" in s]"
   ]
  },
  {
   "cell_type": "code",
   "execution_count": 51,
   "metadata": {},
   "outputs": [
    {
     "data": {
      "text/plain": [
       "96"
      ]
     },
     "execution_count": 51,
     "metadata": {},
     "output_type": "execute_result"
    }
   ],
   "source": [
    "len(cornea)"
   ]
  },
  {
   "cell_type": "code",
   "execution_count": 52,
   "metadata": {},
   "outputs": [],
   "source": [
    "kerato = [s for s in ques2 if \"keratoconus\" in s]"
   ]
  },
  {
   "cell_type": "code",
   "execution_count": 53,
   "metadata": {},
   "outputs": [
    {
     "data": {
      "text/plain": [
       "14"
      ]
     },
     "execution_count": 53,
     "metadata": {},
     "output_type": "execute_result"
    }
   ],
   "source": [
    "len(kerato)"
   ]
  },
  {
   "cell_type": "code",
   "execution_count": 54,
   "metadata": {},
   "outputs": [],
   "source": [
    "stye = [s for s in ques2 if \"stye\" in s]"
   ]
  },
  {
   "cell_type": "code",
   "execution_count": 55,
   "metadata": {},
   "outputs": [
    {
     "data": {
      "text/plain": [
       "31"
      ]
     },
     "execution_count": 55,
     "metadata": {},
     "output_type": "execute_result"
    }
   ],
   "source": [
    "len(stye)"
   ]
  },
  {
   "cell_type": "code",
   "execution_count": 56,
   "metadata": {},
   "outputs": [],
   "source": [
    "duct = [s for s in ques2 if \"duct\" in s]"
   ]
  },
  {
   "cell_type": "code",
   "execution_count": 57,
   "metadata": {},
   "outputs": [
    {
     "data": {
      "text/plain": [
       "28"
      ]
     },
     "execution_count": 57,
     "metadata": {},
     "output_type": "execute_result"
    }
   ],
   "source": [
    "len(duct)"
   ]
  },
  {
   "cell_type": "code",
   "execution_count": 58,
   "metadata": {},
   "outputs": [],
   "source": [
    "floater = [s for s in ques2 if \"floater\" in s]"
   ]
  },
  {
   "cell_type": "code",
   "execution_count": 59,
   "metadata": {},
   "outputs": [
    {
     "data": {
      "text/plain": [
       "25"
      ]
     },
     "execution_count": 59,
     "metadata": {},
     "output_type": "execute_result"
    }
   ],
   "source": [
    "len(floater)"
   ]
  },
  {
   "cell_type": "code",
   "execution_count": 60,
   "metadata": {},
   "outputs": [],
   "source": [
    "uveitis = [s for s in ques2 if \"uveitis\" in s]"
   ]
  },
  {
   "cell_type": "code",
   "execution_count": 61,
   "metadata": {},
   "outputs": [
    {
     "data": {
      "text/plain": [
       "37"
      ]
     },
     "execution_count": 61,
     "metadata": {},
     "output_type": "execute_result"
    }
   ],
   "source": [
    "len(uveitis)"
   ]
  },
  {
   "cell_type": "code",
   "execution_count": 62,
   "metadata": {},
   "outputs": [],
   "source": [
    "retinal_vein_occlusion = [s for s in ques2 if \"retinal vein occlusion\" in s]"
   ]
  },
  {
   "cell_type": "code",
   "execution_count": 63,
   "metadata": {},
   "outputs": [
    {
     "data": {
      "text/plain": [
       "12"
      ]
     },
     "execution_count": 63,
     "metadata": {},
     "output_type": "execute_result"
    }
   ],
   "source": [
    "len(retinal_vein_occlusion)"
   ]
  },
  {
   "cell_type": "code",
   "execution_count": 64,
   "metadata": {},
   "outputs": [],
   "source": [
    "vision_loss = [s for s in ques2 if \"vision loss\" in s]"
   ]
  },
  {
   "cell_type": "code",
   "execution_count": 65,
   "metadata": {},
   "outputs": [
    {
     "data": {
      "text/plain": [
       "14"
      ]
     },
     "execution_count": 65,
     "metadata": {},
     "output_type": "execute_result"
    }
   ],
   "source": [
    "len(vision_loss)"
   ]
  },
  {
   "cell_type": "code",
   "execution_count": null,
   "metadata": {},
   "outputs": [],
   "source": []
  },
  {
   "cell_type": "code",
   "execution_count": 66,
   "metadata": {},
   "outputs": [],
   "source": [
    "a = set(surgery)"
   ]
  },
  {
   "cell_type": "code",
   "execution_count": 67,
   "metadata": {},
   "outputs": [],
   "source": [
    "b = set(treat)"
   ]
  },
  {
   "cell_type": "code",
   "execution_count": 68,
   "metadata": {},
   "outputs": [],
   "source": [
    "c = set(symptom)"
   ]
  },
  {
   "cell_type": "code",
   "execution_count": 69,
   "metadata": {},
   "outputs": [],
   "source": [
    "d = set(diagnose)"
   ]
  },
  {
   "cell_type": "code",
   "execution_count": 70,
   "metadata": {},
   "outputs": [],
   "source": [
    "e = set(dryeye)"
   ]
  },
  {
   "cell_type": "code",
   "execution_count": 71,
   "metadata": {},
   "outputs": [],
   "source": [
    "f = set(glaucoma)"
   ]
  },
  {
   "cell_type": "code",
   "execution_count": 72,
   "metadata": {},
   "outputs": [],
   "source": [
    "g = set(pinkeye)"
   ]
  },
  {
   "cell_type": "code",
   "execution_count": 73,
   "metadata": {},
   "outputs": [],
   "source": [
    "h = set(cataract)"
   ]
  },
  {
   "cell_type": "code",
   "execution_count": 74,
   "metadata": {},
   "outputs": [],
   "source": [
    "i = set(hyphema)"
   ]
  },
  {
   "cell_type": "code",
   "execution_count": 75,
   "metadata": {},
   "outputs": [],
   "source": [
    "j = set(stroke)"
   ]
  },
  {
   "cell_type": "code",
   "execution_count": 76,
   "metadata": {},
   "outputs": [],
   "source": [
    "k = set(cornea)"
   ]
  },
  {
   "cell_type": "code",
   "execution_count": 77,
   "metadata": {},
   "outputs": [],
   "source": [
    "l = set(kerato)"
   ]
  },
  {
   "cell_type": "code",
   "execution_count": 78,
   "metadata": {},
   "outputs": [],
   "source": [
    "m = set(stye)"
   ]
  },
  {
   "cell_type": "code",
   "execution_count": 79,
   "metadata": {},
   "outputs": [],
   "source": [
    "n = set(duct)"
   ]
  },
  {
   "cell_type": "code",
   "execution_count": 80,
   "metadata": {},
   "outputs": [],
   "source": [
    "o = set(floater)"
   ]
  },
  {
   "cell_type": "code",
   "execution_count": 81,
   "metadata": {},
   "outputs": [],
   "source": [
    "p = set(uveitis)"
   ]
  },
  {
   "cell_type": "code",
   "execution_count": 82,
   "metadata": {},
   "outputs": [],
   "source": [
    "q = set(retinal_vein_occlusion)"
   ]
  },
  {
   "cell_type": "code",
   "execution_count": 83,
   "metadata": {},
   "outputs": [],
   "source": [
    "r = set(vision_loss)"
   ]
  },
  {
   "cell_type": "code",
   "execution_count": 84,
   "metadata": {},
   "outputs": [],
   "source": [
    "final_ques = ques - a - b - c - d - e - f - g - h - i - j - k - l - m - n - o - p - q - r"
   ]
  },
  {
   "cell_type": "code",
   "execution_count": 85,
   "metadata": {},
   "outputs": [
    {
     "data": {
      "text/plain": [
       "953"
      ]
     },
     "execution_count": 85,
     "metadata": {},
     "output_type": "execute_result"
    }
   ],
   "source": [
    "len(final_ques)"
   ]
  },
  {
   "cell_type": "code",
   "execution_count": null,
   "metadata": {},
   "outputs": [],
   "source": []
  }
 ],
 "metadata": {
  "kernelspec": {
   "display_name": "Python 3",
   "language": "python",
   "name": "python3"
  },
  "language_info": {
   "codemirror_mode": {
    "name": "ipython",
    "version": 3
   },
   "file_extension": ".py",
   "mimetype": "text/x-python",
   "name": "python",
   "nbconvert_exporter": "python",
   "pygments_lexer": "ipython3",
   "version": "3.7.6"
  }
 },
 "nbformat": 4,
 "nbformat_minor": 4
}
