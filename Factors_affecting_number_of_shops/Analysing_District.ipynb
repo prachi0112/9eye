{
 "cells": [
  {
   "cell_type": "code",
   "execution_count": 1,
   "metadata": {},
   "outputs": [],
   "source": [
    "import pandas as pd"
   ]
  },
  {
   "cell_type": "code",
   "execution_count": 2,
   "metadata": {},
   "outputs": [],
   "source": [
    "df = pd.read_excel(\"Delhinew_district.xlsx\")"
   ]
  },
  {
   "cell_type": "code",
   "execution_count": 3,
   "metadata": {},
   "outputs": [
    {
     "data": {
      "text/html": [
       "<div>\n",
       "<style scoped>\n",
       "    .dataframe tbody tr th:only-of-type {\n",
       "        vertical-align: middle;\n",
       "    }\n",
       "\n",
       "    .dataframe tbody tr th {\n",
       "        vertical-align: top;\n",
       "    }\n",
       "\n",
       "    .dataframe thead th {\n",
       "        text-align: right;\n",
       "    }\n",
       "</style>\n",
       "<table border=\"1\" class=\"dataframe\">\n",
       "  <thead>\n",
       "    <tr style=\"text-align: right;\">\n",
       "      <th></th>\n",
       "      <th>STORE NAME</th>\n",
       "      <th>Executive Name</th>\n",
       "      <th>AREA</th>\n",
       "      <th>ADDRESS</th>\n",
       "      <th>COLOR_CODE</th>\n",
       "      <th>CALL SUMMARY</th>\n",
       "      <th>ADDRESS2</th>\n",
       "      <th>long</th>\n",
       "      <th>lat</th>\n",
       "      <th>district</th>\n",
       "    </tr>\n",
       "  </thead>\n",
       "  <tbody>\n",
       "    <tr>\n",
       "      <th>0</th>\n",
       "      <td>Akas Optical Shop</td>\n",
       "      <td>sahil</td>\n",
       "      <td>ADARSH NAGAR</td>\n",
       "      <td>B-970, Block H 3, Jahangirpuri, Delhi, 110033</td>\n",
       "      <td>NaN</td>\n",
       "      <td>wrong number</td>\n",
       "      <td>B-970, Block H 3, Jahangirpuri, Delhi, 110033,...</td>\n",
       "      <td>77.169424</td>\n",
       "      <td>28.727799</td>\n",
       "      <td>North District</td>\n",
       "    </tr>\n",
       "    <tr>\n",
       "      <th>1</th>\n",
       "      <td>Alisha Opticals</td>\n",
       "      <td>sahil</td>\n",
       "      <td>ADARSH NAGAR</td>\n",
       "      <td>D-483, Railway Rd, Sadi Nagar, Azadpur, Ashok ...</td>\n",
       "      <td>NaN</td>\n",
       "      <td>NaN</td>\n",
       "      <td>D-483, Railway Rd, Sadi Nagar, Azadpur, Ashok ...</td>\n",
       "      <td>77.167459</td>\n",
       "      <td>28.714504</td>\n",
       "      <td>North District</td>\n",
       "    </tr>\n",
       "    <tr>\n",
       "      <th>2</th>\n",
       "      <td>Aman optics</td>\n",
       "      <td>NaN</td>\n",
       "      <td>ADARSH NAGAR</td>\n",
       "      <td>A-13, GT Karnal road, Adarsh Nagar, New Delhi-...</td>\n",
       "      <td>NaN</td>\n",
       "      <td>NaN</td>\n",
       "      <td>A-13, GT Karnal road, Adarsh Nagar, New Delhi-...</td>\n",
       "      <td>77.169118</td>\n",
       "      <td>28.718977</td>\n",
       "      <td>North District</td>\n",
       "    </tr>\n",
       "    <tr>\n",
       "      <th>3</th>\n",
       "      <td>Dr. K.L. Sethi eye care</td>\n",
       "      <td>NaN</td>\n",
       "      <td>ADARSH NAGAR</td>\n",
       "      <td>C-5, aryasamaj road, Adarsh Nagar new Delhi-1...</td>\n",
       "      <td>NaN</td>\n",
       "      <td>NaN</td>\n",
       "      <td>C-5, aryasamaj road, Adarsh Nagar new Delhi-1...</td>\n",
       "      <td>77.172657</td>\n",
       "      <td>28.721333</td>\n",
       "      <td>North District</td>\n",
       "    </tr>\n",
       "    <tr>\n",
       "      <th>4</th>\n",
       "      <td>Eye care centre</td>\n",
       "      <td>Naman</td>\n",
       "      <td>ADARSH NAGAR</td>\n",
       "      <td>C-5 ,Shop no.-3 Arya samaj road, Adarsh Nagar,...</td>\n",
       "      <td>0.5</td>\n",
       "      <td>NaN</td>\n",
       "      <td>C-5 ,Shop no.-3 Arya samaj road, Adarsh Nagar,...</td>\n",
       "      <td>77.175140</td>\n",
       "      <td>28.718182</td>\n",
       "      <td>North District</td>\n",
       "    </tr>\n",
       "  </tbody>\n",
       "</table>\n",
       "</div>"
      ],
      "text/plain": [
       "                STORE NAME Executive Name          AREA  \\\n",
       "0        Akas Optical Shop          sahil  ADARSH NAGAR   \n",
       "1          Alisha Opticals          sahil  ADARSH NAGAR   \n",
       "2              Aman optics            NaN  ADARSH NAGAR   \n",
       "3  Dr. K.L. Sethi eye care            NaN  ADARSH NAGAR   \n",
       "4          Eye care centre          Naman  ADARSH NAGAR   \n",
       "\n",
       "                                             ADDRESS  COLOR_CODE  \\\n",
       "0      B-970, Block H 3, Jahangirpuri, Delhi, 110033         NaN   \n",
       "1  D-483, Railway Rd, Sadi Nagar, Azadpur, Ashok ...         NaN   \n",
       "2  A-13, GT Karnal road, Adarsh Nagar, New Delhi-...         NaN   \n",
       "3   C-5, aryasamaj road, Adarsh Nagar new Delhi-1...         NaN   \n",
       "4  C-5 ,Shop no.-3 Arya samaj road, Adarsh Nagar,...         0.5   \n",
       "\n",
       "   CALL SUMMARY                                           ADDRESS2       long  \\\n",
       "0  wrong number  B-970, Block H 3, Jahangirpuri, Delhi, 110033,...  77.169424   \n",
       "1           NaN  D-483, Railway Rd, Sadi Nagar, Azadpur, Ashok ...  77.167459   \n",
       "2           NaN  A-13, GT Karnal road, Adarsh Nagar, New Delhi-...  77.169118   \n",
       "3           NaN   C-5, aryasamaj road, Adarsh Nagar new Delhi-1...  77.172657   \n",
       "4           NaN  C-5 ,Shop no.-3 Arya samaj road, Adarsh Nagar,...  77.175140   \n",
       "\n",
       "         lat        district  \n",
       "0  28.727799  North District  \n",
       "1  28.714504  North District  \n",
       "2  28.718977  North District  \n",
       "3  28.721333  North District  \n",
       "4  28.718182  North District  "
      ]
     },
     "execution_count": 3,
     "metadata": {},
     "output_type": "execute_result"
    }
   ],
   "source": [
    "df.head()"
   ]
  },
  {
   "cell_type": "code",
   "execution_count": 4,
   "metadata": {},
   "outputs": [
    {
     "data": {
      "text/plain": [
       "West District                283\n",
       "Central District             192\n",
       "North West District          135\n",
       "South East Delhi District    125\n",
       "South District               112\n",
       "North District                96\n",
       "Shahdara District             92\n",
       "South West District           76\n",
       "East District                 72\n",
       "New Delhi District            41\n",
       "North East District           41\n",
       "Gurugram District              8\n",
       "Name: district, dtype: int64"
      ]
     },
     "execution_count": 4,
     "metadata": {},
     "output_type": "execute_result"
    }
   ],
   "source": [
    "pd.value_counts(df['district'])"
   ]
  },
  {
   "cell_type": "code",
   "execution_count": 5,
   "metadata": {},
   "outputs": [],
   "source": [
    "df[df['district'] == \"Gurugram District\"] = \"South District\""
   ]
  },
  {
   "cell_type": "code",
   "execution_count": 6,
   "metadata": {},
   "outputs": [
    {
     "data": {
      "text/plain": [
       "West District                283\n",
       "Central District             192\n",
       "North West District          135\n",
       "South East Delhi District    125\n",
       "South District               120\n",
       "North District                96\n",
       "Shahdara District             92\n",
       "South West District           76\n",
       "East District                 72\n",
       "New Delhi District            41\n",
       "North East District           41\n",
       "Name: district, dtype: int64"
      ]
     },
     "execution_count": 6,
     "metadata": {},
     "output_type": "execute_result"
    }
   ],
   "source": [
    "pd.value_counts(df['district'])"
   ]
  },
  {
   "cell_type": "code",
   "execution_count": 7,
   "metadata": {},
   "outputs": [],
   "source": [
    "df[df['district'] == \"Shahdara District\"] = \"North East District\""
   ]
  },
  {
   "cell_type": "code",
   "execution_count": 8,
   "metadata": {},
   "outputs": [
    {
     "data": {
      "text/plain": [
       "West District                283\n",
       "Central District             192\n",
       "North West District          135\n",
       "North East District          133\n",
       "South East Delhi District    125\n",
       "South District               120\n",
       "North District                96\n",
       "South West District           76\n",
       "East District                 72\n",
       "New Delhi District            41\n",
       "Name: district, dtype: int64"
      ]
     },
     "execution_count": 8,
     "metadata": {},
     "output_type": "execute_result"
    }
   ],
   "source": [
    "pd.value_counts(df['district'])"
   ]
  },
  {
   "cell_type": "code",
   "execution_count": 9,
   "metadata": {},
   "outputs": [],
   "source": [
    "df[df['district'] == \"South East Delhi District\"] = \"South District\""
   ]
  },
  {
   "cell_type": "code",
   "execution_count": 10,
   "metadata": {},
   "outputs": [
    {
     "data": {
      "text/plain": [
       "West District          283\n",
       "South District         245\n",
       "Central District       192\n",
       "North West District    135\n",
       "North East District    133\n",
       "North District          96\n",
       "South West District     76\n",
       "East District           72\n",
       "New Delhi District      41\n",
       "Name: district, dtype: int64"
      ]
     },
     "execution_count": 10,
     "metadata": {},
     "output_type": "execute_result"
    }
   ],
   "source": [
    "pd.value_counts(df['district'])"
   ]
  },
  {
   "cell_type": "code",
   "execution_count": 11,
   "metadata": {},
   "outputs": [
    {
     "name": "stdout",
     "output_type": "stream",
     "text": [
      "<class 'pandas.core.frame.DataFrame'>\n",
      "RangeIndex: 1274 entries, 0 to 1273\n",
      "Data columns (total 10 columns):\n",
      " #   Column          Non-Null Count  Dtype \n",
      "---  ------          --------------  ----- \n",
      " 0   STORE NAME      1274 non-null   object\n",
      " 1   Executive Name  303 non-null    object\n",
      " 2   AREA            1274 non-null   object\n",
      " 3   ADDRESS         1274 non-null   object\n",
      " 4   COLOR_CODE      269 non-null    object\n",
      " 5   CALL SUMMARY    314 non-null    object\n",
      " 6   ADDRESS2        1274 non-null   object\n",
      " 7   long            1273 non-null   object\n",
      " 8   lat             1273 non-null   object\n",
      " 9   district        1273 non-null   object\n",
      "dtypes: object(10)\n",
      "memory usage: 99.7+ KB\n"
     ]
    }
   ],
   "source": [
    "df.info()"
   ]
  },
  {
   "cell_type": "code",
   "execution_count": 12,
   "metadata": {},
   "outputs": [],
   "source": [
    "df[\"district\"].fillna(\"New Delhi District\", inplace = True) "
   ]
  },
  {
   "cell_type": "code",
   "execution_count": 13,
   "metadata": {},
   "outputs": [
    {
     "name": "stdout",
     "output_type": "stream",
     "text": [
      "<class 'pandas.core.frame.DataFrame'>\n",
      "RangeIndex: 1274 entries, 0 to 1273\n",
      "Data columns (total 10 columns):\n",
      " #   Column          Non-Null Count  Dtype \n",
      "---  ------          --------------  ----- \n",
      " 0   STORE NAME      1274 non-null   object\n",
      " 1   Executive Name  303 non-null    object\n",
      " 2   AREA            1274 non-null   object\n",
      " 3   ADDRESS         1274 non-null   object\n",
      " 4   COLOR_CODE      269 non-null    object\n",
      " 5   CALL SUMMARY    314 non-null    object\n",
      " 6   ADDRESS2        1274 non-null   object\n",
      " 7   long            1273 non-null   object\n",
      " 8   lat             1273 non-null   object\n",
      " 9   district        1274 non-null   object\n",
      "dtypes: object(10)\n",
      "memory usage: 99.7+ KB\n"
     ]
    }
   ],
   "source": [
    "df.info()"
   ]
  },
  {
   "cell_type": "code",
   "execution_count": 14,
   "metadata": {},
   "outputs": [
    {
     "data": {
      "text/plain": [
       "West District          283\n",
       "South District         245\n",
       "Central District       192\n",
       "North West District    135\n",
       "North East District    133\n",
       "North District          96\n",
       "South West District     76\n",
       "East District           72\n",
       "New Delhi District      42\n",
       "Name: district, dtype: int64"
      ]
     },
     "execution_count": 14,
     "metadata": {},
     "output_type": "execute_result"
    }
   ],
   "source": [
    "pd.value_counts(df['district'])"
   ]
  },
  {
   "cell_type": "code",
   "execution_count": 15,
   "metadata": {},
   "outputs": [],
   "source": [
    "dist = df.district.unique()"
   ]
  },
  {
   "cell_type": "code",
   "execution_count": 16,
   "metadata": {},
   "outputs": [
    {
     "data": {
      "text/plain": [
       "array(['North District', 'South District', 'South West District',\n",
       "       'North East District', 'West District', 'Central District',\n",
       "       'New Delhi District', 'East District', 'North West District'],\n",
       "      dtype=object)"
      ]
     },
     "execution_count": 16,
     "metadata": {},
     "output_type": "execute_result"
    }
   ],
   "source": [
    "dist"
   ]
  },
  {
   "cell_type": "code",
   "execution_count": 17,
   "metadata": {},
   "outputs": [],
   "source": [
    "stores = [96, 245, 76, 133, 283, 192, 42, 72, 135]"
   ]
  },
  {
   "cell_type": "code",
   "execution_count": 18,
   "metadata": {},
   "outputs": [],
   "source": [
    "population_density = [14557, 11060, 5446, 36155, 19563, 27730, 4057, 27132, 8254]"
   ]
  },
  {
   "cell_type": "code",
   "execution_count": 19,
   "metadata": {},
   "outputs": [],
   "source": [
    "population = [887978, 2731929, 2292958, 2241624, 2543243, 582320, 142004, 1709345, 3656539]"
   ]
  },
  {
   "cell_type": "code",
   "execution_count": 20,
   "metadata": {},
   "outputs": [],
   "source": [
    "dict = {'district': dist, 'population_density': population_density, 'population': population, 'stores': stores}"
   ]
  },
  {
   "cell_type": "code",
   "execution_count": 21,
   "metadata": {},
   "outputs": [],
   "source": [
    "dist_pop = pd.DataFrame(dict)"
   ]
  },
  {
   "cell_type": "code",
   "execution_count": 22,
   "metadata": {},
   "outputs": [
    {
     "data": {
      "text/html": [
       "<div>\n",
       "<style scoped>\n",
       "    .dataframe tbody tr th:only-of-type {\n",
       "        vertical-align: middle;\n",
       "    }\n",
       "\n",
       "    .dataframe tbody tr th {\n",
       "        vertical-align: top;\n",
       "    }\n",
       "\n",
       "    .dataframe thead th {\n",
       "        text-align: right;\n",
       "    }\n",
       "</style>\n",
       "<table border=\"1\" class=\"dataframe\">\n",
       "  <thead>\n",
       "    <tr style=\"text-align: right;\">\n",
       "      <th></th>\n",
       "      <th>district</th>\n",
       "      <th>population_density</th>\n",
       "      <th>population</th>\n",
       "      <th>stores</th>\n",
       "    </tr>\n",
       "  </thead>\n",
       "  <tbody>\n",
       "    <tr>\n",
       "      <th>0</th>\n",
       "      <td>North District</td>\n",
       "      <td>14557</td>\n",
       "      <td>887978</td>\n",
       "      <td>96</td>\n",
       "    </tr>\n",
       "    <tr>\n",
       "      <th>1</th>\n",
       "      <td>South District</td>\n",
       "      <td>11060</td>\n",
       "      <td>2731929</td>\n",
       "      <td>245</td>\n",
       "    </tr>\n",
       "    <tr>\n",
       "      <th>2</th>\n",
       "      <td>South West District</td>\n",
       "      <td>5446</td>\n",
       "      <td>2292958</td>\n",
       "      <td>76</td>\n",
       "    </tr>\n",
       "    <tr>\n",
       "      <th>3</th>\n",
       "      <td>North East District</td>\n",
       "      <td>36155</td>\n",
       "      <td>2241624</td>\n",
       "      <td>133</td>\n",
       "    </tr>\n",
       "    <tr>\n",
       "      <th>4</th>\n",
       "      <td>West District</td>\n",
       "      <td>19563</td>\n",
       "      <td>2543243</td>\n",
       "      <td>283</td>\n",
       "    </tr>\n",
       "    <tr>\n",
       "      <th>5</th>\n",
       "      <td>Central District</td>\n",
       "      <td>27730</td>\n",
       "      <td>582320</td>\n",
       "      <td>192</td>\n",
       "    </tr>\n",
       "    <tr>\n",
       "      <th>6</th>\n",
       "      <td>New Delhi District</td>\n",
       "      <td>4057</td>\n",
       "      <td>142004</td>\n",
       "      <td>42</td>\n",
       "    </tr>\n",
       "    <tr>\n",
       "      <th>7</th>\n",
       "      <td>East District</td>\n",
       "      <td>27132</td>\n",
       "      <td>1709345</td>\n",
       "      <td>72</td>\n",
       "    </tr>\n",
       "    <tr>\n",
       "      <th>8</th>\n",
       "      <td>North West District</td>\n",
       "      <td>8254</td>\n",
       "      <td>3656539</td>\n",
       "      <td>135</td>\n",
       "    </tr>\n",
       "  </tbody>\n",
       "</table>\n",
       "</div>"
      ],
      "text/plain": [
       "              district  population_density  population  stores\n",
       "0       North District               14557      887978      96\n",
       "1       South District               11060     2731929     245\n",
       "2  South West District                5446     2292958      76\n",
       "3  North East District               36155     2241624     133\n",
       "4        West District               19563     2543243     283\n",
       "5     Central District               27730      582320     192\n",
       "6   New Delhi District                4057      142004      42\n",
       "7        East District               27132     1709345      72\n",
       "8  North West District                8254     3656539     135"
      ]
     },
     "execution_count": 22,
     "metadata": {},
     "output_type": "execute_result"
    }
   ],
   "source": [
    "dist_pop"
   ]
  },
  {
   "cell_type": "code",
   "execution_count": 23,
   "metadata": {},
   "outputs": [
    {
     "data": {
      "text/html": [
       "<div>\n",
       "<style scoped>\n",
       "    .dataframe tbody tr th:only-of-type {\n",
       "        vertical-align: middle;\n",
       "    }\n",
       "\n",
       "    .dataframe tbody tr th {\n",
       "        vertical-align: top;\n",
       "    }\n",
       "\n",
       "    .dataframe thead th {\n",
       "        text-align: right;\n",
       "    }\n",
       "</style>\n",
       "<table border=\"1\" class=\"dataframe\">\n",
       "  <thead>\n",
       "    <tr style=\"text-align: right;\">\n",
       "      <th></th>\n",
       "      <th>district</th>\n",
       "      <th>population_density</th>\n",
       "      <th>population</th>\n",
       "      <th>stores</th>\n",
       "    </tr>\n",
       "  </thead>\n",
       "  <tbody>\n",
       "    <tr>\n",
       "      <th>4</th>\n",
       "      <td>West District</td>\n",
       "      <td>19563</td>\n",
       "      <td>2543243</td>\n",
       "      <td>283</td>\n",
       "    </tr>\n",
       "    <tr>\n",
       "      <th>1</th>\n",
       "      <td>South District</td>\n",
       "      <td>11060</td>\n",
       "      <td>2731929</td>\n",
       "      <td>245</td>\n",
       "    </tr>\n",
       "    <tr>\n",
       "      <th>5</th>\n",
       "      <td>Central District</td>\n",
       "      <td>27730</td>\n",
       "      <td>582320</td>\n",
       "      <td>192</td>\n",
       "    </tr>\n",
       "    <tr>\n",
       "      <th>8</th>\n",
       "      <td>North West District</td>\n",
       "      <td>8254</td>\n",
       "      <td>3656539</td>\n",
       "      <td>135</td>\n",
       "    </tr>\n",
       "    <tr>\n",
       "      <th>3</th>\n",
       "      <td>North East District</td>\n",
       "      <td>36155</td>\n",
       "      <td>2241624</td>\n",
       "      <td>133</td>\n",
       "    </tr>\n",
       "    <tr>\n",
       "      <th>0</th>\n",
       "      <td>North District</td>\n",
       "      <td>14557</td>\n",
       "      <td>887978</td>\n",
       "      <td>96</td>\n",
       "    </tr>\n",
       "    <tr>\n",
       "      <th>2</th>\n",
       "      <td>South West District</td>\n",
       "      <td>5446</td>\n",
       "      <td>2292958</td>\n",
       "      <td>76</td>\n",
       "    </tr>\n",
       "    <tr>\n",
       "      <th>7</th>\n",
       "      <td>East District</td>\n",
       "      <td>27132</td>\n",
       "      <td>1709345</td>\n",
       "      <td>72</td>\n",
       "    </tr>\n",
       "    <tr>\n",
       "      <th>6</th>\n",
       "      <td>New Delhi District</td>\n",
       "      <td>4057</td>\n",
       "      <td>142004</td>\n",
       "      <td>42</td>\n",
       "    </tr>\n",
       "  </tbody>\n",
       "</table>\n",
       "</div>"
      ],
      "text/plain": [
       "              district  population_density  population  stores\n",
       "4        West District               19563     2543243     283\n",
       "1       South District               11060     2731929     245\n",
       "5     Central District               27730      582320     192\n",
       "8  North West District                8254     3656539     135\n",
       "3  North East District               36155     2241624     133\n",
       "0       North District               14557      887978      96\n",
       "2  South West District                5446     2292958      76\n",
       "7        East District               27132     1709345      72\n",
       "6   New Delhi District                4057      142004      42"
      ]
     },
     "execution_count": 23,
     "metadata": {},
     "output_type": "execute_result"
    }
   ],
   "source": [
    "dist_pop.sort_values(\"stores\", axis = 0, ascending = False)"
   ]
  },
  {
   "cell_type": "code",
   "execution_count": 24,
   "metadata": {},
   "outputs": [
    {
     "data": {
      "text/html": [
       "<div>\n",
       "<style scoped>\n",
       "    .dataframe tbody tr th:only-of-type {\n",
       "        vertical-align: middle;\n",
       "    }\n",
       "\n",
       "    .dataframe tbody tr th {\n",
       "        vertical-align: top;\n",
       "    }\n",
       "\n",
       "    .dataframe thead th {\n",
       "        text-align: right;\n",
       "    }\n",
       "</style>\n",
       "<table border=\"1\" class=\"dataframe\">\n",
       "  <thead>\n",
       "    <tr style=\"text-align: right;\">\n",
       "      <th></th>\n",
       "      <th>district</th>\n",
       "      <th>population_density</th>\n",
       "      <th>population</th>\n",
       "      <th>stores</th>\n",
       "    </tr>\n",
       "  </thead>\n",
       "  <tbody>\n",
       "    <tr>\n",
       "      <th>3</th>\n",
       "      <td>North East District</td>\n",
       "      <td>36155</td>\n",
       "      <td>2241624</td>\n",
       "      <td>133</td>\n",
       "    </tr>\n",
       "    <tr>\n",
       "      <th>5</th>\n",
       "      <td>Central District</td>\n",
       "      <td>27730</td>\n",
       "      <td>582320</td>\n",
       "      <td>192</td>\n",
       "    </tr>\n",
       "    <tr>\n",
       "      <th>7</th>\n",
       "      <td>East District</td>\n",
       "      <td>27132</td>\n",
       "      <td>1709345</td>\n",
       "      <td>72</td>\n",
       "    </tr>\n",
       "    <tr>\n",
       "      <th>4</th>\n",
       "      <td>West District</td>\n",
       "      <td>19563</td>\n",
       "      <td>2543243</td>\n",
       "      <td>283</td>\n",
       "    </tr>\n",
       "    <tr>\n",
       "      <th>0</th>\n",
       "      <td>North District</td>\n",
       "      <td>14557</td>\n",
       "      <td>887978</td>\n",
       "      <td>96</td>\n",
       "    </tr>\n",
       "    <tr>\n",
       "      <th>1</th>\n",
       "      <td>South District</td>\n",
       "      <td>11060</td>\n",
       "      <td>2731929</td>\n",
       "      <td>245</td>\n",
       "    </tr>\n",
       "    <tr>\n",
       "      <th>8</th>\n",
       "      <td>North West District</td>\n",
       "      <td>8254</td>\n",
       "      <td>3656539</td>\n",
       "      <td>135</td>\n",
       "    </tr>\n",
       "    <tr>\n",
       "      <th>2</th>\n",
       "      <td>South West District</td>\n",
       "      <td>5446</td>\n",
       "      <td>2292958</td>\n",
       "      <td>76</td>\n",
       "    </tr>\n",
       "    <tr>\n",
       "      <th>6</th>\n",
       "      <td>New Delhi District</td>\n",
       "      <td>4057</td>\n",
       "      <td>142004</td>\n",
       "      <td>42</td>\n",
       "    </tr>\n",
       "  </tbody>\n",
       "</table>\n",
       "</div>"
      ],
      "text/plain": [
       "              district  population_density  population  stores\n",
       "3  North East District               36155     2241624     133\n",
       "5     Central District               27730      582320     192\n",
       "7        East District               27132     1709345      72\n",
       "4        West District               19563     2543243     283\n",
       "0       North District               14557      887978      96\n",
       "1       South District               11060     2731929     245\n",
       "8  North West District                8254     3656539     135\n",
       "2  South West District                5446     2292958      76\n",
       "6   New Delhi District                4057      142004      42"
      ]
     },
     "execution_count": 24,
     "metadata": {},
     "output_type": "execute_result"
    }
   ],
   "source": [
    "dist_pop.sort_values(\"population_density\", axis = 0, ascending = False)"
   ]
  },
  {
   "cell_type": "code",
   "execution_count": 25,
   "metadata": {},
   "outputs": [
    {
     "data": {
      "text/html": [
       "<div>\n",
       "<style scoped>\n",
       "    .dataframe tbody tr th:only-of-type {\n",
       "        vertical-align: middle;\n",
       "    }\n",
       "\n",
       "    .dataframe tbody tr th {\n",
       "        vertical-align: top;\n",
       "    }\n",
       "\n",
       "    .dataframe thead th {\n",
       "        text-align: right;\n",
       "    }\n",
       "</style>\n",
       "<table border=\"1\" class=\"dataframe\">\n",
       "  <thead>\n",
       "    <tr style=\"text-align: right;\">\n",
       "      <th></th>\n",
       "      <th>district</th>\n",
       "      <th>population_density</th>\n",
       "      <th>population</th>\n",
       "      <th>stores</th>\n",
       "    </tr>\n",
       "  </thead>\n",
       "  <tbody>\n",
       "    <tr>\n",
       "      <th>8</th>\n",
       "      <td>North West District</td>\n",
       "      <td>8254</td>\n",
       "      <td>3656539</td>\n",
       "      <td>135</td>\n",
       "    </tr>\n",
       "    <tr>\n",
       "      <th>1</th>\n",
       "      <td>South District</td>\n",
       "      <td>11060</td>\n",
       "      <td>2731929</td>\n",
       "      <td>245</td>\n",
       "    </tr>\n",
       "    <tr>\n",
       "      <th>4</th>\n",
       "      <td>West District</td>\n",
       "      <td>19563</td>\n",
       "      <td>2543243</td>\n",
       "      <td>283</td>\n",
       "    </tr>\n",
       "    <tr>\n",
       "      <th>2</th>\n",
       "      <td>South West District</td>\n",
       "      <td>5446</td>\n",
       "      <td>2292958</td>\n",
       "      <td>76</td>\n",
       "    </tr>\n",
       "    <tr>\n",
       "      <th>3</th>\n",
       "      <td>North East District</td>\n",
       "      <td>36155</td>\n",
       "      <td>2241624</td>\n",
       "      <td>133</td>\n",
       "    </tr>\n",
       "    <tr>\n",
       "      <th>7</th>\n",
       "      <td>East District</td>\n",
       "      <td>27132</td>\n",
       "      <td>1709345</td>\n",
       "      <td>72</td>\n",
       "    </tr>\n",
       "    <tr>\n",
       "      <th>0</th>\n",
       "      <td>North District</td>\n",
       "      <td>14557</td>\n",
       "      <td>887978</td>\n",
       "      <td>96</td>\n",
       "    </tr>\n",
       "    <tr>\n",
       "      <th>5</th>\n",
       "      <td>Central District</td>\n",
       "      <td>27730</td>\n",
       "      <td>582320</td>\n",
       "      <td>192</td>\n",
       "    </tr>\n",
       "    <tr>\n",
       "      <th>6</th>\n",
       "      <td>New Delhi District</td>\n",
       "      <td>4057</td>\n",
       "      <td>142004</td>\n",
       "      <td>42</td>\n",
       "    </tr>\n",
       "  </tbody>\n",
       "</table>\n",
       "</div>"
      ],
      "text/plain": [
       "              district  population_density  population  stores\n",
       "8  North West District                8254     3656539     135\n",
       "1       South District               11060     2731929     245\n",
       "4        West District               19563     2543243     283\n",
       "2  South West District                5446     2292958      76\n",
       "3  North East District               36155     2241624     133\n",
       "7        East District               27132     1709345      72\n",
       "0       North District               14557      887978      96\n",
       "5     Central District               27730      582320     192\n",
       "6   New Delhi District                4057      142004      42"
      ]
     },
     "execution_count": 25,
     "metadata": {},
     "output_type": "execute_result"
    }
   ],
   "source": [
    "dist_pop.sort_values(\"population\", axis = 0, ascending = False)"
   ]
  },
  {
   "cell_type": "code",
   "execution_count": null,
   "metadata": {},
   "outputs": [],
   "source": []
  }
 ],
 "metadata": {
  "kernelspec": {
   "display_name": "Python 3",
   "language": "python",
   "name": "python3"
  },
  "language_info": {
   "codemirror_mode": {
    "name": "ipython",
    "version": 3
   },
   "file_extension": ".py",
   "mimetype": "text/x-python",
   "name": "python",
   "nbconvert_exporter": "python",
   "pygments_lexer": "ipython3",
   "version": "3.7.6"
  }
 },
 "nbformat": 4,
 "nbformat_minor": 4
}
