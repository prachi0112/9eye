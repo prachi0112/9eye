{
 "cells": [
  {
   "cell_type": "code",
   "execution_count": 1,
   "metadata": {},
   "outputs": [],
   "source": [
    "import pandas as pd\n",
    "import json"
   ]
  },
  {
   "cell_type": "code",
   "execution_count": 2,
   "metadata": {},
   "outputs": [
    {
     "data": {
      "text/html": [
       "<div>\n",
       "<style scoped>\n",
       "    .dataframe tbody tr th:only-of-type {\n",
       "        vertical-align: middle;\n",
       "    }\n",
       "\n",
       "    .dataframe tbody tr th {\n",
       "        vertical-align: top;\n",
       "    }\n",
       "\n",
       "    .dataframe thead th {\n",
       "        text-align: right;\n",
       "    }\n",
       "</style>\n",
       "<table border=\"1\" class=\"dataframe\">\n",
       "  <thead>\n",
       "    <tr style=\"text-align: right;\">\n",
       "      <th></th>\n",
       "      <th>Station</th>\n",
       "      <th>Dist.</th>\n",
       "    </tr>\n",
       "  </thead>\n",
       "  <tbody>\n",
       "    <tr>\n",
       "      <th>0</th>\n",
       "      <td>Shaheed Sthal(New Bus Adda)</td>\n",
       "      <td>0.0</td>\n",
       "    </tr>\n",
       "    <tr>\n",
       "      <th>1</th>\n",
       "      <td>Hindon River</td>\n",
       "      <td>1.0</td>\n",
       "    </tr>\n",
       "    <tr>\n",
       "      <th>2</th>\n",
       "      <td>Arthala</td>\n",
       "      <td>2.5</td>\n",
       "    </tr>\n",
       "    <tr>\n",
       "      <th>3</th>\n",
       "      <td>Mohan Nagar</td>\n",
       "      <td>3.2</td>\n",
       "    </tr>\n",
       "    <tr>\n",
       "      <th>4</th>\n",
       "      <td>Shyam park</td>\n",
       "      <td>4.5</td>\n",
       "    </tr>\n",
       "  </tbody>\n",
       "</table>\n",
       "</div>"
      ],
      "text/plain": [
       "                       Station  Dist.\n",
       "0  Shaheed Sthal(New Bus Adda)    0.0\n",
       "1                 Hindon River    1.0\n",
       "2                      Arthala    2.5\n",
       "3                  Mohan Nagar    3.2\n",
       "4                   Shyam park    4.5"
      ]
     },
     "execution_count": 2,
     "metadata": {},
     "output_type": "execute_result"
    }
   ],
   "source": [
    "metro = pd.read_excel(\"Metro_Stations.xlsx\")\n",
    "metro.head()"
   ]
  },
  {
   "cell_type": "code",
   "execution_count": 3,
   "metadata": {},
   "outputs": [
    {
     "name": "stdout",
     "output_type": "stream",
     "text": [
      "<class 'pandas.core.frame.DataFrame'>\n",
      "RangeIndex: 314 entries, 0 to 313\n",
      "Data columns (total 2 columns):\n",
      " #   Column   Non-Null Count  Dtype  \n",
      "---  ------   --------------  -----  \n",
      " 0   Station  286 non-null    object \n",
      " 1   Dist.    286 non-null    float64\n",
      "dtypes: float64(1), object(1)\n",
      "memory usage: 5.0+ KB\n"
     ]
    }
   ],
   "source": [
    "metro.info()"
   ]
  },
  {
   "cell_type": "code",
   "execution_count": 4,
   "metadata": {},
   "outputs": [],
   "source": [
    "metro['ADDRESS'] = metro['Station'] + ' Metro Station, Delhi'"
   ]
  },
  {
   "cell_type": "code",
   "execution_count": 5,
   "metadata": {},
   "outputs": [
    {
     "data": {
      "text/html": [
       "<div>\n",
       "<style scoped>\n",
       "    .dataframe tbody tr th:only-of-type {\n",
       "        vertical-align: middle;\n",
       "    }\n",
       "\n",
       "    .dataframe tbody tr th {\n",
       "        vertical-align: top;\n",
       "    }\n",
       "\n",
       "    .dataframe thead th {\n",
       "        text-align: right;\n",
       "    }\n",
       "</style>\n",
       "<table border=\"1\" class=\"dataframe\">\n",
       "  <thead>\n",
       "    <tr style=\"text-align: right;\">\n",
       "      <th></th>\n",
       "      <th>Station</th>\n",
       "      <th>Dist.</th>\n",
       "      <th>ADDRESS</th>\n",
       "    </tr>\n",
       "  </thead>\n",
       "  <tbody>\n",
       "    <tr>\n",
       "      <th>0</th>\n",
       "      <td>Shaheed Sthal(New Bus Adda)</td>\n",
       "      <td>0.0</td>\n",
       "      <td>Shaheed Sthal(New Bus Adda) Metro Station, Delhi</td>\n",
       "    </tr>\n",
       "    <tr>\n",
       "      <th>1</th>\n",
       "      <td>Hindon River</td>\n",
       "      <td>1.0</td>\n",
       "      <td>Hindon River Metro Station, Delhi</td>\n",
       "    </tr>\n",
       "    <tr>\n",
       "      <th>2</th>\n",
       "      <td>Arthala</td>\n",
       "      <td>2.5</td>\n",
       "      <td>Arthala Metro Station, Delhi</td>\n",
       "    </tr>\n",
       "    <tr>\n",
       "      <th>3</th>\n",
       "      <td>Mohan Nagar</td>\n",
       "      <td>3.2</td>\n",
       "      <td>Mohan Nagar Metro Station, Delhi</td>\n",
       "    </tr>\n",
       "    <tr>\n",
       "      <th>4</th>\n",
       "      <td>Shyam park</td>\n",
       "      <td>4.5</td>\n",
       "      <td>Shyam park Metro Station, Delhi</td>\n",
       "    </tr>\n",
       "  </tbody>\n",
       "</table>\n",
       "</div>"
      ],
      "text/plain": [
       "                       Station  Dist.  \\\n",
       "0  Shaheed Sthal(New Bus Adda)    0.0   \n",
       "1                 Hindon River    1.0   \n",
       "2                      Arthala    2.5   \n",
       "3                  Mohan Nagar    3.2   \n",
       "4                   Shyam park    4.5   \n",
       "\n",
       "                                            ADDRESS  \n",
       "0  Shaheed Sthal(New Bus Adda) Metro Station, Delhi  \n",
       "1                 Hindon River Metro Station, Delhi  \n",
       "2                      Arthala Metro Station, Delhi  \n",
       "3                  Mohan Nagar Metro Station, Delhi  \n",
       "4                   Shyam park Metro Station, Delhi  "
      ]
     },
     "execution_count": 5,
     "metadata": {},
     "output_type": "execute_result"
    }
   ],
   "source": [
    "metro.head()"
   ]
  },
  {
   "cell_type": "code",
   "execution_count": 6,
   "metadata": {},
   "outputs": [
    {
     "data": {
      "text/plain": [
       "314"
      ]
     },
     "execution_count": 6,
     "metadata": {},
     "output_type": "execute_result"
    }
   ],
   "source": [
    "len(metro)"
   ]
  },
  {
   "cell_type": "code",
   "execution_count": 7,
   "metadata": {},
   "outputs": [],
   "source": [
    "metro = metro.dropna()"
   ]
  },
  {
   "cell_type": "code",
   "execution_count": 8,
   "metadata": {},
   "outputs": [
    {
     "data": {
      "text/plain": [
       "286"
      ]
     },
     "execution_count": 8,
     "metadata": {},
     "output_type": "execute_result"
    }
   ],
   "source": [
    "len(metro)"
   ]
  },
  {
   "cell_type": "code",
   "execution_count": 9,
   "metadata": {},
   "outputs": [
    {
     "data": {
      "text/html": [
       "<div>\n",
       "<style scoped>\n",
       "    .dataframe tbody tr th:only-of-type {\n",
       "        vertical-align: middle;\n",
       "    }\n",
       "\n",
       "    .dataframe tbody tr th {\n",
       "        vertical-align: top;\n",
       "    }\n",
       "\n",
       "    .dataframe thead th {\n",
       "        text-align: right;\n",
       "    }\n",
       "</style>\n",
       "<table border=\"1\" class=\"dataframe\">\n",
       "  <thead>\n",
       "    <tr style=\"text-align: right;\">\n",
       "      <th></th>\n",
       "      <th>Station</th>\n",
       "      <th>Dist.</th>\n",
       "      <th>ADDRESS</th>\n",
       "    </tr>\n",
       "  </thead>\n",
       "  <tbody>\n",
       "    <tr>\n",
       "      <th>309</th>\n",
       "      <td>GNIDA Office</td>\n",
       "      <td>26.2</td>\n",
       "      <td>GNIDA Office Metro Station, Delhi</td>\n",
       "    </tr>\n",
       "    <tr>\n",
       "      <th>310</th>\n",
       "      <td>Depot Greater Noida</td>\n",
       "      <td>27.1</td>\n",
       "      <td>Depot Greater Noida Metro Station, Delhi</td>\n",
       "    </tr>\n",
       "    <tr>\n",
       "      <th>311</th>\n",
       "      <td>Dwarka</td>\n",
       "      <td>0.0</td>\n",
       "      <td>Dwarka Metro Station, Delhi</td>\n",
       "    </tr>\n",
       "    <tr>\n",
       "      <th>312</th>\n",
       "      <td>Nangli</td>\n",
       "      <td>1.5</td>\n",
       "      <td>Nangli Metro Station, Delhi</td>\n",
       "    </tr>\n",
       "    <tr>\n",
       "      <th>313</th>\n",
       "      <td>Najafgarh</td>\n",
       "      <td>3.9</td>\n",
       "      <td>Najafgarh Metro Station, Delhi</td>\n",
       "    </tr>\n",
       "  </tbody>\n",
       "</table>\n",
       "</div>"
      ],
      "text/plain": [
       "                 Station  Dist.                                   ADDRESS\n",
       "309         GNIDA Office   26.2         GNIDA Office Metro Station, Delhi\n",
       "310  Depot Greater Noida   27.1  Depot Greater Noida Metro Station, Delhi\n",
       "311               Dwarka    0.0               Dwarka Metro Station, Delhi\n",
       "312               Nangli    1.5               Nangli Metro Station, Delhi\n",
       "313            Najafgarh    3.9            Najafgarh Metro Station, Delhi"
      ]
     },
     "execution_count": 9,
     "metadata": {},
     "output_type": "execute_result"
    }
   ],
   "source": [
    "metro.tail()"
   ]
  },
  {
   "cell_type": "code",
   "execution_count": 10,
   "metadata": {},
   "outputs": [],
   "source": [
    "metro.reset_index(level=0, inplace=True)"
   ]
  },
  {
   "cell_type": "code",
   "execution_count": 11,
   "metadata": {},
   "outputs": [
    {
     "data": {
      "text/html": [
       "<div>\n",
       "<style scoped>\n",
       "    .dataframe tbody tr th:only-of-type {\n",
       "        vertical-align: middle;\n",
       "    }\n",
       "\n",
       "    .dataframe tbody tr th {\n",
       "        vertical-align: top;\n",
       "    }\n",
       "\n",
       "    .dataframe thead th {\n",
       "        text-align: right;\n",
       "    }\n",
       "</style>\n",
       "<table border=\"1\" class=\"dataframe\">\n",
       "  <thead>\n",
       "    <tr style=\"text-align: right;\">\n",
       "      <th></th>\n",
       "      <th>index</th>\n",
       "      <th>Station</th>\n",
       "      <th>Dist.</th>\n",
       "      <th>ADDRESS</th>\n",
       "    </tr>\n",
       "  </thead>\n",
       "  <tbody>\n",
       "    <tr>\n",
       "      <th>281</th>\n",
       "      <td>309</td>\n",
       "      <td>GNIDA Office</td>\n",
       "      <td>26.2</td>\n",
       "      <td>GNIDA Office Metro Station, Delhi</td>\n",
       "    </tr>\n",
       "    <tr>\n",
       "      <th>282</th>\n",
       "      <td>310</td>\n",
       "      <td>Depot Greater Noida</td>\n",
       "      <td>27.1</td>\n",
       "      <td>Depot Greater Noida Metro Station, Delhi</td>\n",
       "    </tr>\n",
       "    <tr>\n",
       "      <th>283</th>\n",
       "      <td>311</td>\n",
       "      <td>Dwarka</td>\n",
       "      <td>0.0</td>\n",
       "      <td>Dwarka Metro Station, Delhi</td>\n",
       "    </tr>\n",
       "    <tr>\n",
       "      <th>284</th>\n",
       "      <td>312</td>\n",
       "      <td>Nangli</td>\n",
       "      <td>1.5</td>\n",
       "      <td>Nangli Metro Station, Delhi</td>\n",
       "    </tr>\n",
       "    <tr>\n",
       "      <th>285</th>\n",
       "      <td>313</td>\n",
       "      <td>Najafgarh</td>\n",
       "      <td>3.9</td>\n",
       "      <td>Najafgarh Metro Station, Delhi</td>\n",
       "    </tr>\n",
       "  </tbody>\n",
       "</table>\n",
       "</div>"
      ],
      "text/plain": [
       "     index              Station  Dist.  \\\n",
       "281    309         GNIDA Office   26.2   \n",
       "282    310  Depot Greater Noida   27.1   \n",
       "283    311               Dwarka    0.0   \n",
       "284    312               Nangli    1.5   \n",
       "285    313            Najafgarh    3.9   \n",
       "\n",
       "                                      ADDRESS  \n",
       "281         GNIDA Office Metro Station, Delhi  \n",
       "282  Depot Greater Noida Metro Station, Delhi  \n",
       "283               Dwarka Metro Station, Delhi  \n",
       "284               Nangli Metro Station, Delhi  \n",
       "285            Najafgarh Metro Station, Delhi  "
      ]
     },
     "execution_count": 11,
     "metadata": {},
     "output_type": "execute_result"
    }
   ],
   "source": [
    "metro.tail()"
   ]
  },
  {
   "cell_type": "code",
   "execution_count": 12,
   "metadata": {},
   "outputs": [
    {
     "data": {
      "text/html": [
       "<div>\n",
       "<style scoped>\n",
       "    .dataframe tbody tr th:only-of-type {\n",
       "        vertical-align: middle;\n",
       "    }\n",
       "\n",
       "    .dataframe tbody tr th {\n",
       "        vertical-align: top;\n",
       "    }\n",
       "\n",
       "    .dataframe thead th {\n",
       "        text-align: right;\n",
       "    }\n",
       "</style>\n",
       "<table border=\"1\" class=\"dataframe\">\n",
       "  <thead>\n",
       "    <tr style=\"text-align: right;\">\n",
       "      <th></th>\n",
       "      <th>index</th>\n",
       "      <th>Station</th>\n",
       "      <th>Dist.</th>\n",
       "      <th>ADDRESS</th>\n",
       "    </tr>\n",
       "  </thead>\n",
       "  <tbody>\n",
       "    <tr>\n",
       "      <th>0</th>\n",
       "      <td>0</td>\n",
       "      <td>Shaheed Sthal(New Bus Adda)</td>\n",
       "      <td>0.0</td>\n",
       "      <td>Shaheed Sthal(New Bus Adda) Metro Station, Delhi</td>\n",
       "    </tr>\n",
       "    <tr>\n",
       "      <th>1</th>\n",
       "      <td>1</td>\n",
       "      <td>Hindon River</td>\n",
       "      <td>1.0</td>\n",
       "      <td>Hindon River Metro Station, Delhi</td>\n",
       "    </tr>\n",
       "    <tr>\n",
       "      <th>2</th>\n",
       "      <td>2</td>\n",
       "      <td>Arthala</td>\n",
       "      <td>2.5</td>\n",
       "      <td>Arthala Metro Station, Delhi</td>\n",
       "    </tr>\n",
       "    <tr>\n",
       "      <th>3</th>\n",
       "      <td>3</td>\n",
       "      <td>Mohan Nagar</td>\n",
       "      <td>3.2</td>\n",
       "      <td>Mohan Nagar Metro Station, Delhi</td>\n",
       "    </tr>\n",
       "    <tr>\n",
       "      <th>4</th>\n",
       "      <td>4</td>\n",
       "      <td>Shyam park</td>\n",
       "      <td>4.5</td>\n",
       "      <td>Shyam park Metro Station, Delhi</td>\n",
       "    </tr>\n",
       "  </tbody>\n",
       "</table>\n",
       "</div>"
      ],
      "text/plain": [
       "   index                      Station  Dist.  \\\n",
       "0      0  Shaheed Sthal(New Bus Adda)    0.0   \n",
       "1      1                 Hindon River    1.0   \n",
       "2      2                      Arthala    2.5   \n",
       "3      3                  Mohan Nagar    3.2   \n",
       "4      4                   Shyam park    4.5   \n",
       "\n",
       "                                            ADDRESS  \n",
       "0  Shaheed Sthal(New Bus Adda) Metro Station, Delhi  \n",
       "1                 Hindon River Metro Station, Delhi  \n",
       "2                      Arthala Metro Station, Delhi  \n",
       "3                  Mohan Nagar Metro Station, Delhi  \n",
       "4                   Shyam park Metro Station, Delhi  "
      ]
     },
     "execution_count": 12,
     "metadata": {},
     "output_type": "execute_result"
    }
   ],
   "source": [
    "metro.head()"
   ]
  },
  {
   "cell_type": "code",
   "execution_count": 13,
   "metadata": {},
   "outputs": [],
   "source": [
    "metro = metro.drop(['index'], axis = 1)"
   ]
  },
  {
   "cell_type": "code",
   "execution_count": 14,
   "metadata": {},
   "outputs": [
    {
     "data": {
      "text/html": [
       "<div>\n",
       "<style scoped>\n",
       "    .dataframe tbody tr th:only-of-type {\n",
       "        vertical-align: middle;\n",
       "    }\n",
       "\n",
       "    .dataframe tbody tr th {\n",
       "        vertical-align: top;\n",
       "    }\n",
       "\n",
       "    .dataframe thead th {\n",
       "        text-align: right;\n",
       "    }\n",
       "</style>\n",
       "<table border=\"1\" class=\"dataframe\">\n",
       "  <thead>\n",
       "    <tr style=\"text-align: right;\">\n",
       "      <th></th>\n",
       "      <th>Station</th>\n",
       "      <th>Dist.</th>\n",
       "      <th>ADDRESS</th>\n",
       "    </tr>\n",
       "  </thead>\n",
       "  <tbody>\n",
       "    <tr>\n",
       "      <th>0</th>\n",
       "      <td>Shaheed Sthal(New Bus Adda)</td>\n",
       "      <td>0.0</td>\n",
       "      <td>Shaheed Sthal(New Bus Adda) Metro Station, Delhi</td>\n",
       "    </tr>\n",
       "    <tr>\n",
       "      <th>1</th>\n",
       "      <td>Hindon River</td>\n",
       "      <td>1.0</td>\n",
       "      <td>Hindon River Metro Station, Delhi</td>\n",
       "    </tr>\n",
       "    <tr>\n",
       "      <th>2</th>\n",
       "      <td>Arthala</td>\n",
       "      <td>2.5</td>\n",
       "      <td>Arthala Metro Station, Delhi</td>\n",
       "    </tr>\n",
       "    <tr>\n",
       "      <th>3</th>\n",
       "      <td>Mohan Nagar</td>\n",
       "      <td>3.2</td>\n",
       "      <td>Mohan Nagar Metro Station, Delhi</td>\n",
       "    </tr>\n",
       "    <tr>\n",
       "      <th>4</th>\n",
       "      <td>Shyam park</td>\n",
       "      <td>4.5</td>\n",
       "      <td>Shyam park Metro Station, Delhi</td>\n",
       "    </tr>\n",
       "  </tbody>\n",
       "</table>\n",
       "</div>"
      ],
      "text/plain": [
       "                       Station  Dist.  \\\n",
       "0  Shaheed Sthal(New Bus Adda)    0.0   \n",
       "1                 Hindon River    1.0   \n",
       "2                      Arthala    2.5   \n",
       "3                  Mohan Nagar    3.2   \n",
       "4                   Shyam park    4.5   \n",
       "\n",
       "                                            ADDRESS  \n",
       "0  Shaheed Sthal(New Bus Adda) Metro Station, Delhi  \n",
       "1                 Hindon River Metro Station, Delhi  \n",
       "2                      Arthala Metro Station, Delhi  \n",
       "3                  Mohan Nagar Metro Station, Delhi  \n",
       "4                   Shyam park Metro Station, Delhi  "
      ]
     },
     "execution_count": 14,
     "metadata": {},
     "output_type": "execute_result"
    }
   ],
   "source": [
    "metro.head()"
   ]
  },
  {
   "cell_type": "code",
   "execution_count": 15,
   "metadata": {},
   "outputs": [],
   "source": [
    "metro['long'] = \"\"\n",
    "metro['lat'] = \"\""
   ]
  },
  {
   "cell_type": "code",
   "execution_count": 16,
   "metadata": {},
   "outputs": [
    {
     "name": "stdout",
     "output_type": "stream",
     "text": [
      "{\"access_token\":\"aee7695f-cc92-44d5-a97f-12731ba38e79\",\"token_type\":\"bearer\",\"expires_in\":8750,\"scope\":\"READ\",\"project_code\":\"prj1593693000i1430257664\"}\n"
     ]
    }
   ],
   "source": [
    "import requests\n",
    "payload = {'grant_type': 'client_credentials' , 'client_id': 'dgwG4nEC7_-B283LLAj9W4Z4c4VQsDqD6gfZ4XwauNzIA1IMaCI7k6pOy6QCLssez0PaYLnixWR3rv80d422Og==' , 'client_secret': 'oGQdcwUsRjPvmLZ-LLub01BVfZiUdmcNLX7SAX0U6V4C7ejV-aG9gcOYsc4OjkpNx1C9qwv0uwFQJGup2-Bb1Gx_Jj8U4xDh'}#Enter Your Client_id,Client_secret\n",
    "r=requests.post(\"https://outpost.mapmyindia.com/api/security/oauth/token\",data =payload)\n",
    "print(r.text)"
   ]
  },
  {
   "cell_type": "code",
   "execution_count": 17,
   "metadata": {},
   "outputs": [],
   "source": [
    "# r.text"
   ]
  },
  {
   "cell_type": "code",
   "execution_count": 18,
   "metadata": {},
   "outputs": [
    {
     "data": {
      "text/plain": [
       "{'access_token': 'aee7695f-cc92-44d5-a97f-12731ba38e79',\n",
       " 'token_type': 'bearer',\n",
       " 'expires_in': 8750,\n",
       " 'scope': 'READ',\n",
       " 'project_code': 'prj1593693000i1430257664'}"
      ]
     },
     "execution_count": 18,
     "metadata": {},
     "output_type": "execute_result"
    }
   ],
   "source": [
    "r.json()"
   ]
  },
  {
   "cell_type": "code",
   "execution_count": 19,
   "metadata": {},
   "outputs": [],
   "source": [
    "a = r.json()"
   ]
  },
  {
   "cell_type": "code",
   "execution_count": 20,
   "metadata": {},
   "outputs": [],
   "source": [
    "access_token = a['access_token']"
   ]
  },
  {
   "cell_type": "code",
   "execution_count": 21,
   "metadata": {},
   "outputs": [
    {
     "data": {
      "text/plain": [
       "'aee7695f-cc92-44d5-a97f-12731ba38e79'"
      ]
     },
     "execution_count": 21,
     "metadata": {},
     "output_type": "execute_result"
    }
   ],
   "source": [
    "access_token"
   ]
  },
  {
   "cell_type": "code",
   "execution_count": 22,
   "metadata": {},
   "outputs": [
    {
     "data": {
      "text/plain": [
       "'{\"access_token\":\"aee7695f-cc92-44d5-a97f-12731ba38e79\",\"token_type\":\"bearer\",\"expires_in\":8750,\"scope\":\"READ\",\"project_code\":\"prj1593693000i1430257664\"}'"
      ]
     },
     "execution_count": 22,
     "metadata": {},
     "output_type": "execute_result"
    }
   ],
   "source": [
    "r.text"
   ]
  },
  {
   "cell_type": "code",
   "execution_count": 23,
   "metadata": {},
   "outputs": [
    {
     "name": "stdout",
     "output_type": "stream",
     "text": [
      "Latitude =  28.675865\n",
      "Longitude =  77.321519\n"
     ]
    }
   ],
   "source": [
    "payload1= {'address': 'Dilshad Garden Metro Station, Delhi'}\n",
    "url= \"https://atlas.mapmyindia.com/api/places/geocode?\"\n",
    "\n",
    "# headers = {'Authorization': 'aee7695f-cc92-44d5-a97f-12731ba38e79'}#Enter Your Access Code \n",
    "\n",
    "headers = {'Authorization': access_token}#Enter Your Access Code \n",
    "\n",
    "r1=requests.get(url,headers=headers, params=payload1)\n",
    "#print(r1)\n",
    "\n",
    "# print(r1.text)\n",
    "\n",
    "import json\n",
    "text_json = json.loads(r1.text)\n",
    "cop=text_json['copResults']\n",
    "lat=cop['latitude']\n",
    "long=cop['longitude']\n",
    "print(\"Latitude = \" , lat)\n",
    "print(\"Longitude = \" , long)"
   ]
  },
  {
   "cell_type": "code",
   "execution_count": 24,
   "metadata": {},
   "outputs": [
    {
     "name": "stdout",
     "output_type": "stream",
     "text": [
      "{\"copResults\": {\"houseNumber\": \"\", \"houseName\": \"\", \"poi\": \"Dilshad Garden Metro Station\", \"street\": \"Grand Trunk Road\", \"subSubLocality\": \"\", \"subLocality\": \"\", \"locality\": \"Jhilmil Colony\", \"village\": \"\", \"subDistrict\": \"Vivek Vihar\", \"district\": \"Shahdara District\", \"city\": \"New Delhi\", \"state\": \"Delhi\", \"pincode\": \"110095\", \"formattedAddress\": \"Dilshad Garden Metro Station, Grand Trunk Road, Jhilmil Colony, Vivek Vihar, Shahdara District, New Delhi, Delhi, 110095\", \"eLoc\": \"3RD8OK\", \"latitude\": 28.675865, \"longitude\": 77.321519, \"geocodeLevel\": \"poi\", \"confidenceScore\": 0.4}}\n"
     ]
    }
   ],
   "source": [
    "print(r1.text)"
   ]
  },
  {
   "cell_type": "code",
   "execution_count": 25,
   "metadata": {
    "scrolled": true
   },
   "outputs": [],
   "source": [
    "# for x in range(len(metro)):\n",
    "#     print(metro['ADDRESS'][x])"
   ]
  },
  {
   "cell_type": "code",
   "execution_count": 26,
   "metadata": {},
   "outputs": [
    {
     "name": "stderr",
     "output_type": "stream",
     "text": [
      "C:\\Users\\Prachi\\anaconda3\\lib\\site-packages\\ipykernel_launcher.py:10: SettingWithCopyWarning: \n",
      "A value is trying to be set on a copy of a slice from a DataFrame\n",
      "\n",
      "See the caveats in the documentation: https://pandas.pydata.org/pandas-docs/stable/user_guide/indexing.html#returning-a-view-versus-a-copy\n",
      "  # Remove the CWD from sys.path while we load stuff.\n",
      "C:\\Users\\Prachi\\anaconda3\\lib\\site-packages\\ipykernel_launcher.py:11: SettingWithCopyWarning: \n",
      "A value is trying to be set on a copy of a slice from a DataFrame\n",
      "\n",
      "See the caveats in the documentation: https://pandas.pydata.org/pandas-docs/stable/user_guide/indexing.html#returning-a-view-versus-a-copy\n",
      "  # This is added back by InteractiveShellApp.init_path()\n"
     ]
    },
    {
     "name": "stdout",
     "output_type": "stream",
     "text": [
      "Unexpected error occurred. Expecting value: line 1 column 1 (char 0)\n"
     ]
    },
    {
     "data": {
      "text/html": [
       "<div>\n",
       "<style scoped>\n",
       "    .dataframe tbody tr th:only-of-type {\n",
       "        vertical-align: middle;\n",
       "    }\n",
       "\n",
       "    .dataframe tbody tr th {\n",
       "        vertical-align: top;\n",
       "    }\n",
       "\n",
       "    .dataframe thead th {\n",
       "        text-align: right;\n",
       "    }\n",
       "</style>\n",
       "<table border=\"1\" class=\"dataframe\">\n",
       "  <thead>\n",
       "    <tr style=\"text-align: right;\">\n",
       "      <th></th>\n",
       "      <th>Station</th>\n",
       "      <th>Dist.</th>\n",
       "      <th>ADDRESS</th>\n",
       "      <th>long</th>\n",
       "      <th>lat</th>\n",
       "    </tr>\n",
       "  </thead>\n",
       "  <tbody>\n",
       "    <tr>\n",
       "      <th>0</th>\n",
       "      <td>Shaheed Sthal(New Bus Adda)</td>\n",
       "      <td>0.0</td>\n",
       "      <td>Shaheed Sthal(New Bus Adda) Metro Station, Delhi</td>\n",
       "      <td>77.2152</td>\n",
       "      <td>28.6951</td>\n",
       "    </tr>\n",
       "    <tr>\n",
       "      <th>1</th>\n",
       "      <td>Hindon River</td>\n",
       "      <td>1.0</td>\n",
       "      <td>Hindon River Metro Station, Delhi</td>\n",
       "      <td>77.2665</td>\n",
       "      <td>28.6699</td>\n",
       "    </tr>\n",
       "    <tr>\n",
       "      <th>2</th>\n",
       "      <td>Arthala</td>\n",
       "      <td>2.5</td>\n",
       "      <td>Arthala Metro Station, Delhi</td>\n",
       "      <td>77.2665</td>\n",
       "      <td>28.6699</td>\n",
       "    </tr>\n",
       "    <tr>\n",
       "      <th>3</th>\n",
       "      <td>Mohan Nagar</td>\n",
       "      <td>3.2</td>\n",
       "      <td>Mohan Nagar Metro Station, Delhi</td>\n",
       "      <td>77.1063</td>\n",
       "      <td>28.6058</td>\n",
       "    </tr>\n",
       "    <tr>\n",
       "      <th>4</th>\n",
       "      <td>Shyam park</td>\n",
       "      <td>4.5</td>\n",
       "      <td>Shyam park Metro Station, Delhi</td>\n",
       "      <td>77.0447</td>\n",
       "      <td>28.6206</td>\n",
       "    </tr>\n",
       "  </tbody>\n",
       "</table>\n",
       "</div>"
      ],
      "text/plain": [
       "                       Station  Dist.  \\\n",
       "0  Shaheed Sthal(New Bus Adda)    0.0   \n",
       "1                 Hindon River    1.0   \n",
       "2                      Arthala    2.5   \n",
       "3                  Mohan Nagar    3.2   \n",
       "4                   Shyam park    4.5   \n",
       "\n",
       "                                            ADDRESS     long      lat  \n",
       "0  Shaheed Sthal(New Bus Adda) Metro Station, Delhi  77.2152  28.6951  \n",
       "1                 Hindon River Metro Station, Delhi  77.2665  28.6699  \n",
       "2                      Arthala Metro Station, Delhi  77.2665  28.6699  \n",
       "3                  Mohan Nagar Metro Station, Delhi  77.1063  28.6058  \n",
       "4                   Shyam park Metro Station, Delhi  77.0447  28.6206  "
      ]
     },
     "execution_count": 26,
     "metadata": {},
     "output_type": "execute_result"
    }
   ],
   "source": [
    "for x in range(len(metro)):\n",
    "    try:\n",
    "        payload1= {'address': metro['ADDRESS'][x]}\n",
    "        url= \"https://atlas.mapmyindia.com/api/places/geocode?\"\n",
    "#         headers = {'Authorization': 'aee7695f-cc92-44d5-a97f-12731ba38e79'} #Enter Your Access Code\n",
    "        headers = {'Authorization': access_token} #Enter Your Access Code\n",
    "        \n",
    "        r1=requests.get(url,headers=headers, params=payload1)\n",
    "        text_json = json.loads(r1.text)\n",
    "        metro['lat'][x] = text_json['copResults']['latitude']\n",
    "        metro['long'][x] = text_json['copResults']['longitude']\n",
    "    except IndexError:\n",
    "        print(\"Address was wrong...\")\n",
    "    except Exception as e:\n",
    "        print(\"Unexpected error occurred.\", e )\n",
    "metro.head()"
   ]
  },
  {
   "cell_type": "code",
   "execution_count": 27,
   "metadata": {},
   "outputs": [
    {
     "data": {
      "text/html": [
       "<div>\n",
       "<style scoped>\n",
       "    .dataframe tbody tr th:only-of-type {\n",
       "        vertical-align: middle;\n",
       "    }\n",
       "\n",
       "    .dataframe tbody tr th {\n",
       "        vertical-align: top;\n",
       "    }\n",
       "\n",
       "    .dataframe thead th {\n",
       "        text-align: right;\n",
       "    }\n",
       "</style>\n",
       "<table border=\"1\" class=\"dataframe\">\n",
       "  <thead>\n",
       "    <tr style=\"text-align: right;\">\n",
       "      <th></th>\n",
       "      <th>Station</th>\n",
       "      <th>Dist.</th>\n",
       "      <th>ADDRESS</th>\n",
       "      <th>long</th>\n",
       "      <th>lat</th>\n",
       "    </tr>\n",
       "  </thead>\n",
       "  <tbody>\n",
       "    <tr>\n",
       "      <th>270</th>\n",
       "      <td>Noida Sector 142</td>\n",
       "      <td>10.5</td>\n",
       "      <td>Noida Sector 142 Metro Station, Delhi</td>\n",
       "      <td>77.0331</td>\n",
       "      <td>28.5972</td>\n",
       "    </tr>\n",
       "    <tr>\n",
       "      <th>271</th>\n",
       "      <td>Noida Sector 143</td>\n",
       "      <td>11.5</td>\n",
       "      <td>Noida Sector 143 Metro Station, Delhi</td>\n",
       "      <td>77.2794</td>\n",
       "      <td>28.6179</td>\n",
       "    </tr>\n",
       "    <tr>\n",
       "      <th>272</th>\n",
       "      <td>Noida Sector 144</td>\n",
       "      <td>12.9</td>\n",
       "      <td>Noida Sector 144 Metro Station, Delhi</td>\n",
       "      <td>77.2794</td>\n",
       "      <td>28.6179</td>\n",
       "    </tr>\n",
       "    <tr>\n",
       "      <th>273</th>\n",
       "      <td>Noida Sector 145</td>\n",
       "      <td>14.1</td>\n",
       "      <td>Noida Sector 145 Metro Station, Delhi</td>\n",
       "      <td>77.2794</td>\n",
       "      <td>28.6179</td>\n",
       "    </tr>\n",
       "    <tr>\n",
       "      <th>274</th>\n",
       "      <td>Noida Sector 146</td>\n",
       "      <td>15.8</td>\n",
       "      <td>Noida Sector 146 Metro Station, Delhi</td>\n",
       "      <td>77.2794</td>\n",
       "      <td>28.6179</td>\n",
       "    </tr>\n",
       "    <tr>\n",
       "      <th>275</th>\n",
       "      <td>Noida Sector 147</td>\n",
       "      <td>17.3</td>\n",
       "      <td>Noida Sector 147 Metro Station, Delhi</td>\n",
       "      <td>77.2794</td>\n",
       "      <td>28.6179</td>\n",
       "    </tr>\n",
       "    <tr>\n",
       "      <th>276</th>\n",
       "      <td>Noida Sector 148</td>\n",
       "      <td>18.9</td>\n",
       "      <td>Noida Sector 148 Metro Station, Delhi</td>\n",
       "      <td>77.2794</td>\n",
       "      <td>28.6179</td>\n",
       "    </tr>\n",
       "    <tr>\n",
       "      <th>277</th>\n",
       "      <td>Knowledge Park II</td>\n",
       "      <td>21.4</td>\n",
       "      <td>Knowledge Park II Metro Station, Delhi</td>\n",
       "      <td>77.3004</td>\n",
       "      <td>28.6754</td>\n",
       "    </tr>\n",
       "    <tr>\n",
       "      <th>278</th>\n",
       "      <td>Pari Chowk Greater Noida</td>\n",
       "      <td>22.5</td>\n",
       "      <td>Pari Chowk Greater Noida Metro Station, Delhi</td>\n",
       "      <td>77.5082</td>\n",
       "      <td>28.4633</td>\n",
       "    </tr>\n",
       "    <tr>\n",
       "      <th>279</th>\n",
       "      <td>Alpha 1 Greater Noida</td>\n",
       "      <td>23.4</td>\n",
       "      <td>Alpha 1 Greater Noida Metro Station, Delhi</td>\n",
       "      <td>77.2383</td>\n",
       "      <td>28.5417</td>\n",
       "    </tr>\n",
       "    <tr>\n",
       "      <th>280</th>\n",
       "      <td>Delta 1 Greater Noida</td>\n",
       "      <td>24.9</td>\n",
       "      <td>Delta 1 Greater Noida Metro Station, Delhi</td>\n",
       "      <td>77.2383</td>\n",
       "      <td>28.5417</td>\n",
       "    </tr>\n",
       "    <tr>\n",
       "      <th>281</th>\n",
       "      <td>GNIDA Office</td>\n",
       "      <td>26.2</td>\n",
       "      <td>GNIDA Office Metro Station, Delhi</td>\n",
       "      <td>77.208</td>\n",
       "      <td>28.5394</td>\n",
       "    </tr>\n",
       "    <tr>\n",
       "      <th>282</th>\n",
       "      <td>Depot Greater Noida</td>\n",
       "      <td>27.1</td>\n",
       "      <td>Depot Greater Noida Metro Station, Delhi</td>\n",
       "      <td>77.262</td>\n",
       "      <td>28.6234</td>\n",
       "    </tr>\n",
       "    <tr>\n",
       "      <th>283</th>\n",
       "      <td>Dwarka</td>\n",
       "      <td>0.0</td>\n",
       "      <td>Dwarka Metro Station, Delhi</td>\n",
       "      <td>77.0227</td>\n",
       "      <td>28.6152</td>\n",
       "    </tr>\n",
       "    <tr>\n",
       "      <th>284</th>\n",
       "      <td>Nangli</td>\n",
       "      <td>1.5</td>\n",
       "      <td>Nangli Metro Station, Delhi</td>\n",
       "      <td>77.0104</td>\n",
       "      <td>28.6173</td>\n",
       "    </tr>\n",
       "    <tr>\n",
       "      <th>285</th>\n",
       "      <td>Najafgarh</td>\n",
       "      <td>3.9</td>\n",
       "      <td>Najafgarh Metro Station, Delhi</td>\n",
       "      <td>77.0776</td>\n",
       "      <td>28.6294</td>\n",
       "    </tr>\n",
       "  </tbody>\n",
       "</table>\n",
       "</div>"
      ],
      "text/plain": [
       "                      Station  Dist.  \\\n",
       "270          Noida Sector 142   10.5   \n",
       "271          Noida Sector 143   11.5   \n",
       "272          Noida Sector 144   12.9   \n",
       "273          Noida Sector 145   14.1   \n",
       "274          Noida Sector 146   15.8   \n",
       "275          Noida Sector 147   17.3   \n",
       "276          Noida Sector 148   18.9   \n",
       "277         Knowledge Park II   21.4   \n",
       "278  Pari Chowk Greater Noida   22.5   \n",
       "279     Alpha 1 Greater Noida   23.4   \n",
       "280     Delta 1 Greater Noida   24.9   \n",
       "281              GNIDA Office   26.2   \n",
       "282       Depot Greater Noida   27.1   \n",
       "283                    Dwarka    0.0   \n",
       "284                    Nangli    1.5   \n",
       "285                 Najafgarh    3.9   \n",
       "\n",
       "                                           ADDRESS     long      lat  \n",
       "270          Noida Sector 142 Metro Station, Delhi  77.0331  28.5972  \n",
       "271          Noida Sector 143 Metro Station, Delhi  77.2794  28.6179  \n",
       "272          Noida Sector 144 Metro Station, Delhi  77.2794  28.6179  \n",
       "273          Noida Sector 145 Metro Station, Delhi  77.2794  28.6179  \n",
       "274          Noida Sector 146 Metro Station, Delhi  77.2794  28.6179  \n",
       "275          Noida Sector 147 Metro Station, Delhi  77.2794  28.6179  \n",
       "276          Noida Sector 148 Metro Station, Delhi  77.2794  28.6179  \n",
       "277         Knowledge Park II Metro Station, Delhi  77.3004  28.6754  \n",
       "278  Pari Chowk Greater Noida Metro Station, Delhi  77.5082  28.4633  \n",
       "279     Alpha 1 Greater Noida Metro Station, Delhi  77.2383  28.5417  \n",
       "280     Delta 1 Greater Noida Metro Station, Delhi  77.2383  28.5417  \n",
       "281              GNIDA Office Metro Station, Delhi   77.208  28.5394  \n",
       "282       Depot Greater Noida Metro Station, Delhi   77.262  28.6234  \n",
       "283                    Dwarka Metro Station, Delhi  77.0227  28.6152  \n",
       "284                    Nangli Metro Station, Delhi  77.0104  28.6173  \n",
       "285                 Najafgarh Metro Station, Delhi  77.0776  28.6294  "
      ]
     },
     "execution_count": 27,
     "metadata": {},
     "output_type": "execute_result"
    }
   ],
   "source": [
    "metro[270:]"
   ]
  },
  {
   "cell_type": "code",
   "execution_count": 30,
   "metadata": {},
   "outputs": [],
   "source": [
    "# metro.to_excel(r'Metronew.xlsx', index = False)"
   ]
  },
  {
   "cell_type": "code",
   "execution_count": null,
   "metadata": {},
   "outputs": [],
   "source": []
  }
 ],
 "metadata": {
  "kernelspec": {
   "display_name": "Python 3",
   "language": "python",
   "name": "python3"
  },
  "language_info": {
   "codemirror_mode": {
    "name": "ipython",
    "version": 3
   },
   "file_extension": ".py",
   "mimetype": "text/x-python",
   "name": "python",
   "nbconvert_exporter": "python",
   "pygments_lexer": "ipython3",
   "version": "3.7.6"
  }
 },
 "nbformat": 4,
 "nbformat_minor": 2
}
